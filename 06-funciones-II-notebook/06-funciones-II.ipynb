{
 "cells": [
  {
   "cell_type": "markdown",
   "metadata": {},
   "source": [
    "<div style=\"margin-bottom: 120px;\">\n",
    "    <div style=\"float:left;\">\n",
    "        <br/>\n",
    "        <img src=\"notebooks-img/udc.png\" width=\"300\"/>\n",
    "    </div>\n",
    "</div>\n",
    "\n",
    "\n",
    "<h1 style=\"color: #d60e8c; text-align:center;\">Funciones II</h1> \n"
   ]
  },
  {
   "cell_type": "markdown",
   "metadata": {},
   "source": [
    "<h2>Contenidos</h2>\n",
    "<div class=\"alert alert-block alert-info\" \n",
    "     style=\"margin-top: 0px; padding-top:0px; border: 1px solid #d60e8c; border-radius: 20px; background:transparent;\">\n",
    "    <ul>\n",
    "        <li><a href=\"#funciones\">Funciones: recordando conceptos</a></li>\n",
    "        <li><a href=\"#ejemplos\">Ejemplos</a></li>        \n",
    "        <li><a href=\"#argumentos\">Funciones: return y argumentos</a></li>        \n",
    "        <li><a href=\"#recursividad\">Funciones recursivas</a></li>      \n",
    "    </ul>\n",
    "</div>"
   ]
  },
  {
   "cell_type": "markdown",
   "metadata": {},
   "source": [
    "<a name=\"funciones\"></a>\n",
    "\n",
    "<h2 style=\"color: #d60e8c;\">Funciones</h2>\n",
    "<hr style=\"border: 0.5px solid #d60e8c;\">\n",
    "\n",
    "\n",
    "<h3 style=\"color: #d60e8c;\"> Recuerda</h3>\n",
    "\n",
    "- Una función es un conjunto de sentencias que se agrupan en una entidad para realizar una tarea.\n",
    "    - Cada vez que se necesite ejecutar la tarea se llamará a la función.\n",
    "- Las funciones evitan repetir sentencias y facilitan el desarrollo (divide y vencerás).\n",
    "- Definir una función implica darle un nombre, especificar sus argumentos y, finalmente, las sentencias que la forman."
   ]
  },
  {
   "cell_type": "markdown",
   "metadata": {},
   "source": [
    "   \n",
    "<div style=\"float:left;width:50%;text-align:center;\">\n",
    "        <img src=\"notebooks-img/funcion_detalle.png\" style=\"width:90%;max-width:900px;\">\n",
    "</div>"
   ]
  },
  {
   "cell_type": "markdown",
   "metadata": {},
   "source": [
    "<h3 style=\"color: #d60e8c;\"> Recuerda</h3>\n",
    "\n",
    "- No se pueden omitir nunca los paréntesis de una función, ni al definirla ni al ejecutarla, aunque no haya argumentos.\n",
    "- Una función no conoce las variables locales de las otras funciones.\n",
    "- Los argumentos son variables locales, simplemente están inicializados a un valor que se establece en tiempo de ejecución en el momento de llamar a la función."
   ]
  },
  {
   "cell_type": "markdown",
   "metadata": {},
   "source": [
    "<a name=\"ejemplos\"></a>\n",
    "<h2 style=\"color: #d60e8c;\">Ejemplos</h2>\n",
    "<hr style=\"border: 0.5px solid #d60e8c;\">\n",
    "\n",
    "\n",
    "<h4 style=\"color: #d60e8c;\">No recibe argumentos y devuelve dos valores</h4>\n"
   ]
  },
  {
   "cell_type": "code",
   "execution_count": null,
   "metadata": {},
   "outputs": [],
   "source": [
    "def entrada_datos():\n",
    "    \"\"\"Pide por teclado base y exponente\"\"\"\n",
    "    base = int(input(\"Introduce la base: \"))\n",
    "    exponente = int(input(\"Introduce el exponente (>0): \"))\n",
    "    while exponente<=0:\n",
    "        exponente= int(input(\"Error en el rango. Introduce el número (>0): \"))\n",
    "    return base, exponente"
   ]
  },
  {
   "cell_type": "markdown",
   "metadata": {},
   "source": [
    "<h4 style=\"color: #d60e8c;\">Función que recibe dos argumentos y devuelve un valor</h4>\n"
   ]
  },
  {
   "cell_type": "code",
   "execution_count": null,
   "metadata": {},
   "outputs": [],
   "source": [
    "def calcula_potencia (base,exp):\n",
    "    \"\"\"Calcula la potencia\"\"\"\n",
    "    potencia=1 \n",
    "    n=1\n",
    "    while n<=exp:\n",
    "         potencia=potencia*base\n",
    "         n=n+1\n",
    "    return potencia"
   ]
  },
  {
   "cell_type": "markdown",
   "metadata": {},
   "source": [
    "<h4 style=\"color: #d60e8c;\">Función que recibe tres argumentos y no devuelve nada</h4>\n"
   ]
  },
  {
   "cell_type": "code",
   "execution_count": null,
   "metadata": {},
   "outputs": [],
   "source": [
    "def imprime_salida(base,exponente,potencia):\n",
    "    \"\"\"Muestra el resultado por pantalla\"\"\"\n",
    "    print(f\"{base} elevado a {exponente} vale {potencia}\")"
   ]
  },
  {
   "cell_type": "markdown",
   "metadata": {},
   "source": [
    "<h4 style=\"color: #d60e8c;\">Encapsula el programa principal</h4>\n",
    "Función que encapsula el programa principal y evita el uso de variables globales"
   ]
  },
  {
   "cell_type": "code",
   "execution_count": null,
   "metadata": {},
   "outputs": [],
   "source": [
    "def main():\n",
    "    base, exp = entrada_datos()\n",
    "    pot = calcula_potencia (base, exp)\n",
    "    print(f\"{base} elevado a {exp} vale {pot}\")"
   ]
  },
  {
   "cell_type": "markdown",
   "metadata": {},
   "source": [
    "<h3 style=\"color: #d60e8c;\">Programa completo</h3>"
   ]
  },
  {
   "cell_type": "code",
   "execution_count": null,
   "metadata": {},
   "outputs": [],
   "source": [
    "def entrada_datos():\n",
    "    \"\"\"Pide por teclado base y exponente\"\"\"\n",
    "    base = int(input(\"Introduce la base: \"))\n",
    "    exponente = int(input(\"Introduce el exponente (>0): \"))\n",
    "    while exponente<=0:\n",
    "        exponente= int(input(\"Error en el rango. Introduce el número (>0): \"))\n",
    "    return base, exponente\n",
    "\n",
    "\n",
    "def calcula_potencia (base,exp):\n",
    "    \"\"\"Calcula la potencia\"\"\"\n",
    "    potencia=1 \n",
    "    n=1\n",
    "    while n<=exp:\n",
    "         potencia=potencia*base\n",
    "         n=n+1\n",
    "    return potencia\n",
    "\n",
    "def imprime_salida(base,exponente,potencia):\n",
    "    \"\"\"Muestra el resultado por pantalla\"\"\"\n",
    "    print(f\"{base} elevado a {exponente} vale {potencia}\")\n",
    "    \n",
    "def main():\n",
    "    base, exp = entrada_datos()\n",
    "    pot = calcula_potencia (base, exp)\n",
    "    print(f\"{base} elevado a {exp} vale {pot}\")\n",
    "    \n",
    "if __name__ == \"__main__\":\n",
    "    main()"
   ]
  },
  {
   "cell_type": "markdown",
   "metadata": {},
   "source": [
    "<a name=\"argumentos\"></a>\n",
    "<h2 style=\"color: #d60e8c;\">Funciones: return y argumentos</h2>\n",
    "<hr style=\"border: 0.5px solid #d60e8c;\">\n"
   ]
  },
  {
   "cell_type": "markdown",
   "metadata": {},
   "source": [
    "<h3 style=\"color: #d60e8c;\">Return </h3>\n",
    "\n",
    "- En Python, una función puede devolver más de un valor con return.\n",
    "- Donde se llama a dicha función hay que recoger los valores devueltos en el mismo orden en el que la función los devolvió."
   ]
  },
  {
   "cell_type": "code",
   "execution_count": 1,
   "metadata": {},
   "outputs": [
    {
     "name": "stdout",
     "output_type": "stream",
     "text": [
      "El cociente de dividir 7 entre 3 es 2 y el resto es 1.\n"
     ]
    }
   ],
   "source": [
    "def division_entera(dividendo, divisor):\n",
    " return dividendo // divisor, dividendo % divisor\n",
    "\n",
    "def main():\n",
    "    n1 = int(input(\"Dime un número entero: \"))\n",
    "    n2 = int(input(\"Dime un otro número entero: \"))\n",
    "    cociente, resto = division_entera(n1, n2)\n",
    "    print(f\"El cociente de dividir {n1} entre {n2} es {cociente} y el resto es {resto}.\")\n",
    "\n",
    "if __name__ == \"__main__\":\n",
    "    main()"
   ]
  },
  {
   "cell_type": "markdown",
   "metadata": {},
   "source": [
    "<h3 style=\"color: #d60e8c;\">Argumentos </h3>\n",
    "\n",
    "- Cuando se llama a una función, los argumentos pueden indicarse mediante una asignación al nombre utilizado en la definición de la función. Implicaciones:\n",
    "    - Es un poco más tedioso llamar a a la función pero...\n",
    "    - Facilita utilizar funciones con muchos argumentos porque no es necesario ponerlos todos al llamar a la función y sobre todo...\n",
    "    - Disminuye la posibilidad de cometer errores al no importar el orden en el que se ponen los argumentos cuando se llama a la función.\n",
    "\n"
   ]
  },
  {
   "cell_type": "code",
   "execution_count": 4,
   "metadata": {},
   "outputs": [
    {
     "name": "stdout",
     "output_type": "stream",
     "text": [
      "El cociente de dividir 7 entre 3 es 2 y el resto es 1.\n"
     ]
    }
   ],
   "source": [
    "def division_entera(dividendo, divisor):\n",
    "    return dividendo // divisor, dividendo % divisor\n",
    "\n",
    "def main():\n",
    "    n1 = int(input(\"Dime un número entero: \"))\n",
    "    n2 = int(input(\"Dime un otro número entero: \"))\n",
    "    cociente, resto = division_entera(divisor=n2, dividendo=n1)\n",
    "    print(f\"El cociente de dividir {n1} entre {n2} es {cociente} y el resto es {resto}.\")\n",
    "\n",
    "\n",
    "if __name__ == \"__main__\":\n",
    "    main()\n"
   ]
  },
  {
   "cell_type": "markdown",
   "metadata": {},
   "source": [
    "- Se pueden mezclar argumentos por posición y argumentos por nombre a la hora de llamar a una función pero, en ese caso, primero van los que se especifican por posición y después los que se especifican por nombre.\n",
    "- Cuando se define una función, los **argumentos** pueden tomar un **valor por defecto** de forma que, cuando se llama a la función, si no se especifica ningún valor para ellos, toman dicho valor por defecto."
   ]
  },
  {
   "cell_type": "code",
   "execution_count": null,
   "metadata": {},
   "outputs": [],
   "source": [
    "def potencia(base,exponente=2):\n",
    "    \"\"\"Función con un valor por defecto para el segundo argumento\"\"\"\n",
    "    resultado = base\n",
    "    for i in range(1,exponente):\n",
    "        resultado *=base\n",
    "    return resultado\n",
    "\n",
    "def main():\n",
    "    n = int(input(\"Dime un número entero:\"))\n",
    "    cuadrado = potencia(n)\n",
    "    print(f\"{n} al cuadrado vale {cuadrado}\")\n",
    "\n",
    "if __name__ == \"__main__\":\n",
    "    main()\n"
   ]
  },
  {
   "cell_type": "markdown",
   "metadata": {},
   "source": [
    "<a name=\"recursividad\"></a>\n",
    "\n",
    "<h2 style=\"color: #d60e8c;\">Funciones recursivas</h2>\n",
    "<hr style=\"border: 0.5px solid #d60e8c;\">\n",
    "\n",
    "- Una función se puede llamar a sí misma (función recursiva). En ese caso:\n",
    "    - Es necesario que exista al menos un caso en el que la función no se llame a sí misma (caso base), o tendremos un desbordamiento de pila. \n",
    "    - La recursividad permite implementar algunas definiciones matemáticas / operaciones que por su propia naturaleza son recursivas de forma:\n",
    "        - Más concisa.\n",
    "        - Pero menos eficiente. "
   ]
  },
  {
   "cell_type": "markdown",
   "metadata": {},
   "source": [
    "<h3 style=\"color: #d60e8c;\">Ejemplo</h3>"
   ]
  },
  {
   "cell_type": "code",
   "execution_count": null,
   "metadata": {},
   "outputs": [],
   "source": [
    "def potencia(base,exponente = 2):\n",
    "    if exponente == 1:\n",
    "        return base\n",
    "    return base * potencia(base, exponente - 1)\n",
    "\n",
    "def main():\n",
    "    n1 = int(input(\"Dime la base: \"))\n",
    "    n2 = int(input(\"Dime el exponente: \"))\n",
    "    print(f\"{n1} elevado a {n2} vale {potencia(base=n1, exponente=n2)}\")\n",
    "    \n",
    "if __name__==\"__main__\":\n",
    "    main()"
   ]
  },
  {
   "cell_type": "markdown",
   "metadata": {},
   "source": [
    "<br/>\n",
    "<hr style=\"border: 0.5px solid #d60e8c;\">"
   ]
  },
  {
   "cell_type": "markdown",
   "metadata": {},
   "source": [
    "<div style=\"float:left;\">\n",
    "INFORMÁTICA\n",
    "</div>\n",
    "<div style=\"text-align:right;\">\n",
    "Grados en Ing. Mecánica e Ing. en Tecnologías Industriales\n",
    "</div>"
   ]
  }
 ],
 "metadata": {
  "interpreter": {
   "hash": "aee8b7b246df8f9039afb4144a1f6fd8d2ca17a180786b69acc140d282b71a49"
  },
  "kernelspec": {
   "display_name": "Python 3.9.7 64-bit",
   "name": "python3"
  },
  "language_info": {
   "codemirror_mode": {
    "name": "ipython",
    "version": 3
   },
   "file_extension": ".py",
   "mimetype": "text/x-python",
   "name": "python",
   "nbconvert_exporter": "python",
   "pygments_lexer": "ipython3",
   "version": "3.9.7"
  }
 },
 "nbformat": 4,
 "nbformat_minor": 4
}
