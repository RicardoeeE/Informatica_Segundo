{
  "cells": [
    {
      "cell_type": "markdown",
      "metadata": {},
      "source": [
        "<div style=\"margin-bottom: 120px;\">\n",
        "    <div style=\"float:left;\">\n",
        "        <br/>\n",
        "        <img src=\"notebooks-img/udc.png\" width=\"300\"/>\n",
        "    </div>\n",
        "</div>\n",
        "\n",
        "\n",
        "<h1 style=\"color: #d60e8c; text-align:center;\">Primeros pasos en Python</h1> \n"
      ]
    },
    {
      "cell_type": "markdown",
      "metadata": {},
      "source": [
        "<h2>Contenidos</h2>\n",
        "<div class=\"alert alert-block alert-info\" \n",
        "     style=\"margin-top: 0px; padding-top:0px; border: 1px solid #d60e8c; border-radius: 20px; background:transparent;\">\n",
        "    <ul>\n",
        "        <li><a href=\"#intro\">Introducción a Python</a></li>\n",
        "        <li><a href=\"#types\">Tipos de datos</a></li>\n",
        "        <li><a href=\"#expressions\">Expresiones y variables</a></li>\n",
        "    </ul>\n",
        "</div>"
      ]
    },
    {
      "cell_type": "markdown",
      "metadata": {},
      "source": [
        "<a name=\"intro\"></a>\n",
        "\n",
        "<h2 id=\"intro\" style=\"color: #d60e8c;\">Introducción</h2>\n",
        "<hr style=\"border: 0.5px solid #d60e8c;\">\n",
        "\n",
        "\n"
      ]
    },
    {
      "cell_type": "markdown",
      "metadata": {},
      "source": [
        "<h3 style=\"color: #d60e8c;\">Estructura de un programa en Python</h3>\n",
        "\n",
        "Un programa de Python es un fichero de texto (normalmente guardado con el juego de caracteres UTF-8) que contiene expresiones y sentencias del lenguaje Python. Esas expresiones y sentencias se consiguen combinando los elementos básicos del lenguaje.\n",
        "\n",
        "El lenguaje Python está formado por elementos (tokens) de diferentes tipos:\n",
        "\n",
        "- palabras reservadas (keywords)\n",
        "- funciones integradas (built-in functions)\n",
        "- literales\n",
        "- operadores\n",
        "- delimitadores\n",
        "- identificadores\n",
        "\n",
        "En la parte de teoría de la asignatura se verán estos elementos con mayor detalle. Pero es en la documentación de Python donde se encuentra una descripción mucho más detallada y completa (https://docs.python.org/3/library/index.html)\n",
        "\n",
        "Para que un programa se pueda ejecutar, el programa debe ser sintácticamente correcto, es decir, utilizar los elementos del lenguaje Python respetando su reglas de \"ensamblaje\". Esas reglas se irán viendo a lo largo del curso. Obviamente, que un programa se pueda ejecutar no significa que un programa vaya a realizar la tarea deseada, ni que lo vaya a hacer en todos los casos."
      ]
    },
    {
      "cell_type": "markdown",
      "metadata": {},
      "source": [
        "<h3 style=\"color: #d60e8c;\">Hola mundo</h3>\n",
        "\n",
        "Cuando se aprende un lenguaje de programación nuevo, es habitual empezar con un programa de ejemplo que simplemente muestra la frase \"hola mundo\". Por simple que sea, esta única línea de código nos asegura que sabemos cómo imprimir una cadena en la pantalla y cómo ejecutar código dentro de las celdas de un cuaderno."
      ]
    },
    {
      "cell_type": "markdown",
      "metadata": {},
      "source": [
        "<hr/>\n",
        "<div class=\"alert alert-success alertsuccess\" style=\"margin-top: 20px\">\n",
        "[Tip]: Para ejecutar el código de Python en las celdas de un cuaderno de manera más rápida, haz click en la celda para seleccionarla y presiona <kbd>Shift</kbd> + <kbd>Enter</kbd>.\n",
        "</div>\n",
        "<hr/>"
      ]
    },
    {
      "cell_type": "code",
      "execution_count": null,
      "metadata": {},
      "outputs": [],
      "source": [
        "# Prueba tu primer programa en Python\n",
        "\n",
        "print(\"Hola Mundo!\")"
      ]
    },
    {
      "cell_type": "markdown",
      "metadata": {},
      "source": [
        "<h3 style=\"color: #d60e8c;\">¿Qué versión de Python estamos usando?</h3>\n",
        "\n",
        "<p>\n",
        "    Hay dos versiones del lenguaje de programación Python en uso hoy en día: Python 2 y Python 3. Pero la comunidad de Python ha decidido pasar de Python 2 a Python 3, y la mayoría de las librerías más populares ya han dejado de dar soporte a Python 2.\n",
        "</p>\n",
        "<p>\n",
        "    En esta asignatura usaremos Python 3 exclusivamente. ¿Pero cómo sabemos que nuestro programa está usando Python 3? Podemos mirar en la esquina superior derecha de este cuaderno y ver que pone \"Python 3\" seguido de cierto números, que indican la versión exacta. Conocer la versión es importante, puesto que algunas librerías son compatibles solo con ciertas versiones de Python 3.\n",
        "</p>\n",
        "<p>\n",
        "    También podemos preguntar directamente a Python y obtener una respuesta más detallada de la versión. Prueba a ejecutar el siguiente código:\n",
        "</p>"
      ]
    },
    {
      "cell_type": "code",
      "execution_count": null,
      "metadata": {},
      "outputs": [],
      "source": [
        "# Comprueba la versión de Python\n",
        "\n",
        "import sys\n",
        "print(sys.version)"
      ]
    },
    {
      "cell_type": "markdown",
      "metadata": {},
      "source": [
        "<hr/>\n",
        "<div class=\"alert alert-success alertsuccess\" style=\"margin-top: 20px\">\n",
        "    [Tip:] <code>sys</code> es un módulo integrado que contiene parámetros y funciones específicas del sistema, incluyendo la versión de Python en uso. Antes de utilizarlo, debemos añadirlo con <code>import</code>, que es la instrucción que nos permite importar librerías.\n",
        "</div>\n",
        "<hr/>"
      ]
    },
    {
      "cell_type": "markdown",
      "metadata": {},
      "source": [
        "<h3 style=\"color: #d60e8c;\">Comentarios en Python</h3>\n",
        "\n",
        "<p>\n",
        "    Además de escribir código, es importante añadir comentarios. Los comentarios ayudan a otros a entender nuestro código, y a uno mismo cuando vuelve a utilizar su propio programa tiempo después de haberlo hecho. \n",
        "<p>\n",
        "    Para escribir comentarios en Python, se utiliza el símbolo <code>#</code> antes del texto del comentario. Cuando se ejecute el programa, Python ignorará todo lo que esté a la derecha de <code>#</code> en la misma línea.\n",
        "</p>\n"
      ]
    },
    {
      "cell_type": "code",
      "execution_count": null,
      "metadata": {
        "trusted": true
      },
      "outputs": [],
      "source": [
        "# Ejemplo del uso de comentarios\n",
        "\n",
        "print(\"Hola Mundo!\") # Esta línea imprime una cadena (string)\n",
        "# print(\"Hola\")"
      ]
    },
    {
      "cell_type": "markdown",
      "metadata": {},
      "source": [
        "<p>\n",
        "    Después de ejecutar el código anterior, el texto <code>Esta línea imprime una cadena (string)</code> no aparece en pantalla, porque es un comentario, y se ignora.\n",
        "</p>\n",
        "<p>\n",
        "    Aunque la segunda línea <code>print(\"Hola\")</code> sí es código Python (y no un texto de ayuda), tampoco se ejecuta al estar precedida por el símbolo (<code>#</code>). Tener líneas de codigo comentadas es habitual al programar, ya que nos permite probar diferentes soluciones de manera sencilla (quitando o poniendo <code>#</code>).\n",
        "</p>\n",
        "<p>\n",
        "    Recomendamos que pongáis comentarios al principio de vuestros ejercicios, incluyendo el enunciado del mismo, de forma que podáis saber qué hace el programa de manera sencilla.\n",
        "</p>"
      ]
    },
    {
      "cell_type": "markdown",
      "metadata": {},
      "source": [
        "<h3 style=\"color: #d60e8c;\">Errores en Python</h3>"
      ]
    },
    {
      "cell_type": "markdown",
      "metadata": {},
      "source": [
        "<p>Cuando escribimos mal el código un programa, desde un punto de vista sintáctico, Python muestra un mensaje de error. Es importante leer los mensajes de error cuidadosamente para entender dónde se ha cometido el error y cómo se puede corregir.</p>\n",
        "<p>Por ejemplo, si se escribe <code>frint</code> en lugar de <code>print</code>, el error que se muestra es el siguiente:</p>"
      ]
    },
    {
      "cell_type": "code",
      "execution_count": null,
      "metadata": {
        "trusted": true
      },
      "outputs": [],
      "source": [
        "# Error en print\n",
        "\n",
        "frint(\"Hola mundo\")"
      ]
    },
    {
      "cell_type": "markdown",
      "metadata": {},
      "source": [
        "<p>El mensaje de error indica: \n",
        "<ol>\n",
        "    <li>en qué linea ocurre el error, y</li> \n",
        "    <li>el tipo de error (NameError)</li> \n",
        "</ol>\n",
        "<p>Python intentó ejecutar la función <code>frint</code>, pero no pudo porque no es ninguna función integrada ni tampoco la hemos creado nosotros. </p>"
      ]
    },
    {
      "cell_type": "markdown",
      "metadata": {},
      "source": [
        "<p>\n",
        "    Los diferentes errores muestran mensajes diferentes. Por ejemplo, el siguiente código muestra un error de sintaxis. ¿Sabrías dónde?\n",
        "</p>"
      ]
    },
    {
      "cell_type": "code",
      "execution_count": null,
      "metadata": {
        "trusted": true
      },
      "outputs": [],
      "source": [
        "# Trata de encontrar el error\n",
        "\n",
        "print(\"Hello, Python!)"
      ]
    },
    {
      "cell_type": "markdown",
      "metadata": {
        "tags": []
      },
      "source": [
        "<a name=\"#types\"></a>\n",
        "\n",
        "<h2 id=\"types\" style=\"color: #d60e8c;\">Tipos de datos en Python</h2>\n",
        "<hr style=\"border: 0.5px solid #d60e8c;\">\n",
        "\n",
        "<p>\n",
        "    Python soporta muchos tipos diferentes de datos. Los tipos de datos más comunes son tres: cadenas, números enteros y números reales. Cada vez que escribes palabras (texto) en Python, estás usando cadenas de caracteres. Por otro lado, los números sin parte decimal son enteros y los que tienen parte decimal son reales.</p>"
      ]
    },
    {
      "cell_type": "markdown",
      "metadata": {},
      "source": [
        "<a align=\"center\">\n",
        "    <img src=\"https://s3-api.us-geo.objectstorage.softlayer.net/cf-courses-data/CognitiveClass/PY0101EN/Chapter%201/Images/TypesObjects.png\" width=\"600\">\n",
        "</a>"
      ]
    },
    {
      "cell_type": "markdown",
      "metadata": {},
      "source": [
        "<p>Veamos algunos ejemplos</p>"
      ]
    },
    {
      "cell_type": "code",
      "execution_count": null,
      "metadata": {},
      "outputs": [],
      "source": [
        "# Entero\n",
        "\n",
        "11"
      ]
    },
    {
      "cell_type": "code",
      "execution_count": null,
      "metadata": {},
      "outputs": [],
      "source": [
        "# Real\n",
        "\n",
        "2.14"
      ]
    },
    {
      "cell_type": "code",
      "execution_count": null,
      "metadata": {},
      "outputs": [],
      "source": [
        "# Cadena\n",
        "\n",
        "\"Hola Python!\""
      ]
    },
    {
      "cell_type": "markdown",
      "metadata": {},
      "source": [
        "Puedes hacer que Python te diga el tipo de dato de una expresión utilizando la función <code>type()</code>. Python se refiere a los números enteros como <code>int</code>, a los números reales como <code>float</code> y a las cadenas de caracteres como <code>str</code>."
      ]
    },
    {
      "cell_type": "code",
      "execution_count": null,
      "metadata": {},
      "outputs": [],
      "source": [
        "# Type de 12\n",
        "\n",
        "type(12)"
      ]
    },
    {
      "cell_type": "code",
      "execution_count": null,
      "metadata": {},
      "outputs": [],
      "source": [
        "# Type de 2.14\n",
        "\n",
        "type(2.14)"
      ]
    },
    {
      "cell_type": "code",
      "execution_count": null,
      "metadata": {},
      "outputs": [],
      "source": [
        "# Type de \"Hola Python!\"\n",
        "\n",
        "type(\"Hola Python!\")"
      ]
    },
    {
      "cell_type": "markdown",
      "metadata": {},
      "source": [
        "<h3 style=\"color: #d60e8c;\">Convertir un tipo de dato en otro</h3>"
      ]
    },
    {
      "cell_type": "markdown",
      "metadata": {},
      "source": [
        "<p>Puedes cambiar el tipo de dato en Python; esto se llama typecasting. Por ejemplo, puedes convertir un entero en un float (por ejemplo, 2 en 2,0).\n",
        "</p>\n"
      ]
    },
    {
      "cell_type": "code",
      "execution_count": null,
      "metadata": {
        "trusted": true
      },
      "outputs": [],
      "source": [
        "# Convertir 2 a float\n",
        "\n",
        "float(2)"
      ]
    },
    {
      "cell_type": "code",
      "execution_count": null,
      "metadata": {
        "trusted": true
      },
      "outputs": [],
      "source": [
        "# Convertir 2 a float y comprobar el nuevo tipo\n",
        "\n",
        "type(float(2))"
      ]
    },
    {
      "cell_type": "markdown",
      "metadata": {},
      "source": [
        "<p>Cuando convertimos un entero a un real, no cambiamos realmente el valor del número. Sin embargo, si convertimos un real a un entero, normalmente perderemos información. Por ejemplo, si convertimos 1.1 en un entero, obtendremos 1 y perderemos la información decimal (es decir, 0.1):</p>"
      ]
    },
    {
      "cell_type": "code",
      "execution_count": null,
      "metadata": {
        "trusted": true
      },
      "outputs": [],
      "source": [
        "# Casting de 1.1 a entero pierde información\n",
        "\n",
        "int(1.1)"
      ]
    },
    {
      "cell_type": "markdown",
      "metadata": {},
      "source": [
        "<h3 style=\"color: #d60e8c;\">Convertir cadenas en enteros y reales</h3>"
      ]
    },
    {
      "cell_type": "markdown",
      "metadata": {},
      "source": [
        "<p>A veces, podemos tener una cadena que contenga un número en su interior. Si este es el caso, podemos convertir esa cadena que representa un número en un entero utilizando <code>int()</code>:</p>"
      ]
    },
    {
      "cell_type": "code",
      "execution_count": null,
      "metadata": {},
      "outputs": [],
      "source": [
        "# Convertir una cadena en un entero\n",
        "\n",
        "int('1')"
      ]
    },
    {
      "cell_type": "markdown",
      "metadata": {},
      "source": [
        "<p>Pero si intentas hacerlo con una cadena que no coincide perfectamente con un número, obtendrás un error.</p>"
      ]
    },
    {
      "cell_type": "code",
      "execution_count": null,
      "metadata": {
        "trusted": true
      },
      "outputs": [],
      "source": [
        "# Convertir una cadena en un entero con error\n",
        "\n",
        "int('1 or 2 people')"
      ]
    },
    {
      "cell_type": "markdown",
      "metadata": {},
      "source": [
        "<p>También podemos convertir cadenas que contengan reales en datos de tipo <i>float</i></p>"
      ]
    },
    {
      "cell_type": "code",
      "execution_count": null,
      "metadata": {
        "trusted": true
      },
      "outputs": [],
      "source": [
        "# Convertir la cadena \"1.2\" en un número real\n",
        "\n",
        "float('1.2')"
      ]
    },
    {
      "cell_type": "markdown",
      "metadata": {},
      "source": [
        "<hr/>\n",
        "<div class=\"alert alert-success alertsuccess\" style=\"margin-top: 20px\">\n",
        "    [Tip:]  Fíjate que las cadenas se pueden representar con comillas simples (<code>'1.2'</code>) o dobles(<code>\"1.2\"</code>), pero no mezcladas (<code>\"1.2'</code>) \n",
        "</div>\n",
        "<hr/>"
      ]
    },
    {
      "cell_type": "markdown",
      "metadata": {},
      "source": [
        "<h3 style=\"color: #d60e8c;\">Convertir números en cadenas</h3>"
      ]
    },
    {
      "cell_type": "code",
      "execution_count": null,
      "metadata": {},
      "outputs": [],
      "source": [
        "# Convertir un entero en una cadena\n",
        "\n",
        "str(1)"
      ]
    },
    {
      "cell_type": "code",
      "execution_count": null,
      "metadata": {},
      "outputs": [],
      "source": [
        "# Convertir un número real en una cadena\n",
        "\n",
        "str(1.2)"
      ]
    },
    {
      "cell_type": "markdown",
      "metadata": {
        "tags": []
      },
      "source": [
        "<h3 style=\"color: #d60e8c;\">Tipo de dato Boolean (bool)</h3>\n"
      ]
    },
    {
      "cell_type": "markdown",
      "metadata": {},
      "source": [
        "Boolean es otro tipo importante en Python. Un dato de tipo Booleano puede tomar uno de dos valores: <code>True</code> or <code>False</code>. Las expresiones lógicas que veremos en temas posteriores devuelven este tipo de dato</p>"
      ]
    },
    {
      "cell_type": "markdown",
      "metadata": {},
      "source": [
        "<hr>"
      ]
    },
    {
      "cell_type": "markdown",
      "metadata": {},
      "source": [
        "<a name=\"expressions\"></a>\n",
        "\n",
        "<h2 id=\"expressions\" style=\"color: #d60e8c;\">Expresiones y variables</h2>\n",
        "<hr style=\"border: 0.5px solid #d60e8c;\">"
      ]
    },
    {
      "cell_type": "markdown",
      "metadata": {},
      "source": [
        "<h3 style=\"color: #d60e8c;\">Expresiones</h3>"
      ]
    },
    {
      "cell_type": "markdown",
      "metadata": {},
      "source": [
        "<p>Las expresiones en Python incluyen operaciones entre tipos de datos compatibles (por ejemplo, enteros y reales). Por ejemplo, operaciones aritméticas básicas:</p>"
      ]
    },
    {
      "cell_type": "code",
      "execution_count": null,
      "metadata": {},
      "outputs": [],
      "source": [
        "# Suma simple\n",
        "\n",
        "43 + 60 + 16 + 41"
      ]
    },
    {
      "cell_type": "code",
      "execution_count": null,
      "metadata": {},
      "outputs": [],
      "source": [
        "# Resta simple\n",
        "\n",
        "50 - 60"
      ]
    },
    {
      "cell_type": "code",
      "execution_count": null,
      "metadata": {},
      "outputs": [],
      "source": [
        "# Multiplicación simple\n",
        "\n",
        "5 * 5"
      ]
    },
    {
      "cell_type": "code",
      "execution_count": null,
      "metadata": {
        "trusted": true
      },
      "outputs": [],
      "source": [
        "# Division simple\n",
        "\n",
        "25 / 5"
      ]
    },
    {
      "cell_type": "code",
      "execution_count": null,
      "metadata": {
        "trusted": true
      },
      "outputs": [],
      "source": [
        "# Division simple\n",
        "\n",
        "25 / 6"
      ]
    },
    {
      "cell_type": "markdown",
      "metadata": {},
      "source": []
    },
    {
      "cell_type": "markdown",
      "metadata": {},
      "source": [
        "<p>Ojo, existen operadores especiales que debemos conocer, y veremos en clase de teoría. Por ejemplo, podemos usar la doble barra para hacer una división entera:"
      ]
    },
    {
      "cell_type": "code",
      "execution_count": null,
      "metadata": {},
      "outputs": [],
      "source": [
        "# División entera simple\n",
        "\n",
        "25 // 5"
      ]
    },
    {
      "cell_type": "code",
      "execution_count": null,
      "metadata": {
        "trusted": true
      },
      "outputs": [],
      "source": [
        "# División entera simple\n",
        "\n",
        "25 // 6"
      ]
    },
    {
      "cell_type": "markdown",
      "metadata": {},
      "source": [
        "<p>Python sigue convenciones matemáticas estándar de prioridad de operadores cuando evalúa expresiones matemáticas. En el siguiente ejemplo, se añade 30 al resultado de la multiplicación (es decir, 120)</p>"
      ]
    },
    {
      "cell_type": "code",
      "execution_count": null,
      "metadata": {},
      "outputs": [],
      "source": [
        "# Expresión matemática\n",
        "\n",
        "30 + 2 * 60"
      ]
    },
    {
      "cell_type": "markdown",
      "metadata": {},
      "source": [
        "<p>Las expresiones entre paréntesis tienen prioridad, y es recomendable usarlos siempre para evitar errores:"
      ]
    },
    {
      "cell_type": "code",
      "execution_count": null,
      "metadata": {
        "trusted": true
      },
      "outputs": [],
      "source": [
        "# Expresión matemática\n",
        "\n",
        "(30 + 2) * 60"
      ]
    },
    {
      "cell_type": "markdown",
      "metadata": {},
      "source": [
        "<h3 style=\"color: #d60e8c;\">Variables</h3>"
      ]
    },
    {
      "cell_type": "markdown",
      "metadata": {},
      "source": [
        "<p>En todos los lenguajes de programación se utilizan <i>variables</i> para almacenar valores que se podrán reutilizar después. Por ejemplo:</p>"
      ]
    },
    {
      "cell_type": "code",
      "execution_count": null,
      "metadata": {},
      "outputs": [],
      "source": [
        "# Guardar el resultado de la suma en una variable x\n",
        "\n",
        "x = 43 + 60 + 16 + 41"
      ]
    },
    {
      "cell_type": "code",
      "execution_count": null,
      "metadata": {},
      "outputs": [],
      "source": [
        "# Imprimimos el valor de x\n",
        "\n",
        "x"
      ]
    },
    {
      "cell_type": "code",
      "execution_count": null,
      "metadata": {
        "trusted": true
      },
      "outputs": [],
      "source": [
        "# Utilizamos el valor almacenado en x en otra expresión\n",
        "\n",
        "y = x / 60\n",
        "y"
      ]
    },
    {
      "cell_type": "markdown",
      "metadata": {},
      "source": [
        "Podemos sobreescribir el valor de una variable con un nuevo valor, que es una expresión de gran utilidad:"
      ]
    },
    {
      "cell_type": "code",
      "execution_count": null,
      "metadata": {},
      "outputs": [],
      "source": [
        "# Sobreescribir x con su división entre 60\n",
        "\n",
        "x = x / 60\n",
        "x"
      ]
    },
    {
      "cell_type": "markdown",
      "metadata": {},
      "source": [
        "<p>Es importante utilizar nombres de variables adecuados, es decir, representativos de lo que almacenan:</p>"
      ]
    },
    {
      "cell_type": "code",
      "execution_count": null,
      "metadata": {},
      "outputs": [],
      "source": [
        "# Nombres adecuados de variables\n",
        "\n",
        "total_min = 43 + 42 + 57 # Duración total de los partidos en minutos\n",
        "total_min"
      ]
    },
    {
      "cell_type": "code",
      "execution_count": null,
      "metadata": {},
      "outputs": [],
      "source": [
        "# Nombres adecuados de variables\n",
        "\n",
        "total_horas = total_min / 60 # Duración total de los partidos en horas\n",
        "total_horas"
      ]
    },
    {
      "cell_type": "code",
      "execution_count": null,
      "metadata": {},
      "outputs": [],
      "source": [
        "# Expresión anterior completa\n",
        "\n",
        "total_horas = (43 + 42 + 57) / 60  # Horas totales en una sola expresión\n",
        "total_horas"
      ]
    },
    {
      "cell_type": "markdown",
      "metadata": {},
      "source": [
        "<div style=\"float:left;\">\n",
        "INFORMÁTICA\n",
        "</div>\n",
        "<div style=\"text-align:right;\">\n",
        "Grados en Ing. Mecánica e Ing. en Tecnologías Industriales\n",
        "</div>"
      ]
    }
  ],
  "metadata": {
    "kernelspec": {
      "display_name": "Python 3.9.11 64-bit",
      "language": "python",
      "name": "python3"
    },
    "language_info": {
      "codemirror_mode": {
        "name": "ipython",
        "version": 3
      },
      "file_extension": ".py",
      "mimetype": "text/x-python",
      "name": "python",
      "nbconvert_exporter": "python",
      "pygments_lexer": "ipython3",
      "version": "3.9.11"
    },
    "vscode": {
      "interpreter": {
        "hash": "aee8b7b246df8f9039afb4144a1f6fd8d2ca17a180786b69acc140d282b71a49"
      }
    }
  },
  "nbformat": 4,
  "nbformat_minor": 4
}
