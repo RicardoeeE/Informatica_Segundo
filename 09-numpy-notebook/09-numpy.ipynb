{
 "cells": [
  {
   "cell_type": "markdown",
   "metadata": {},
   "source": [
    "<div style=\"margin-bottom: 120px;\">\n",
    "    <div style=\"float:left;\">\n",
    "        <br/>\n",
    "        <img src=\"notebooks-img/udc.png\" width=\"300\"/>\n",
    "    </div>\n",
    "</div>\n",
    "\n",
    "\n",
    "<h1 style=\"color: #d60e8c; text-align:center;\">Vectores y matrices con NumPy</h1> \n"
   ]
  },
  {
   "cell_type": "markdown",
   "metadata": {},
   "source": [
    "<h2>Contenidos</h2>\n",
    "<div class=\"alert alert-block alert-info\" \n",
    "     style=\"margin-top: 0px; padding-top:0px; border: 1px solid #d60e8c; border-radius: 20px; background:transparent;\">\n",
    "    <ul>\n",
    "        <li><a href=\"#intro\">Introducción</a></li>\n",
    "        <li><a href=\"#arrays\">Arrays</a></li>      \n",
    "        <li><a href=\"#operaciones\">Operaciones con arrays</a></li>                \n",
    "        <li><a href=\"#matrices\">Matrices</a></li>        \n",
    "        <li><a href=\"#opmatrices\">Operaciones con matrices</a></li>     \n",
    "        <li><a href=\"#ejemplo\">Ejemplo de ejercicio con matrices</a></li>     \n",
    "    </ul>\n",
    "</div>"
   ]
  },
  {
   "cell_type": "markdown",
   "metadata": {},
   "source": [
    "<a name=\"intro\"></a>\n",
    "\n",
    "<h2 style=\"color: #d60e8c;\">Introducción</h2>\n",
    "<hr style=\"border: 0.5px solid #d60e8c;\">\n",
    "\n",
    "- NumPy es el paquete de cálculo por excelencia en Python. \n",
    "- Muchos otros, más específicos, lo utilizan como base => SciPy, pandas, scikit-image, Matplotlib, Seaborn...\n",
    "- Características principales:\n",
    "    - Está implementado en C => **eficiencia**\n",
    "    - El tipo de dato básico es el array n-dimensional donde **todos los elementos son del mismo tipo**.\n",
    "    - Al contrario que al trabajar con listas, las funciones de NumPy devuelven **vistas** siempre que es posible\n",
    "\n",
    "\n",
    "En este cuaderno se incluyen alguna de las funciones de NumPy pero no pretende ser una guía de referencia sino una introducción para conocer la librería y aprender a utilizar alguna de sus operaciones. La documentación de referencia debería ser siempre la documentación oficial de NumPy donde se puede consultar de forma de detallada cada uno de los tipos y operaciones disponibles. \n",
    "\n",
    "Estos son los enlaces a la documentación de referencia y a un tutorial de NumPy:\n",
    "\n",
    "- <a href=\"https://numpy.org/doc/stable/index.html\">Documentación oficial de NumPy</a>\n",
    "- <a href=\"https://numpy.org/doc/stable/user/absolute_beginners.html\">Tutorial para aprender NumPy desde cero</a>"
   ]
  },
  {
   "cell_type": "markdown",
   "metadata": {},
   "source": [
    "\n",
    "\n",
    "\n",
    "<h3 style=\"color: #d60e8c;\">Antes de comenzar </h3>\n",
    "\n",
    "En los siguientes apartados veremos ejemplo de algunas funciones. Para comenzar y poder utilizar NumPy, antes hay que importar el módulo:"
   ]
  },
  {
   "cell_type": "code",
   "execution_count": 1,
   "metadata": {},
   "outputs": [],
   "source": [
    "import numpy as np  # \"as\" se utiliza para usar el nombre np en nuestro programa en lugar de numpy"
   ]
  },
  {
   "cell_type": "markdown",
   "metadata": {},
   "source": [
    "<a name=\"arrays\"></a>\n",
    "<h2 style=\"color: #d60e8c;\">Arrays: creación y propiedades</h2>\n",
    "<hr style=\"border: 0.5px solid #d60e8c;\">"
   ]
  },
  {
   "cell_type": "markdown",
   "metadata": {},
   "source": [
    "<h3 style=\"color: #d60e8c;\">Creación de arrays</h3>\n",
    "\n",
    "| Función | Descripción |\n",
    "| :-- | :-- |\n",
    "| array(*list*) | array a partir de una lista |\n",
    "| zeros(*shape*) | array relleno con ceros de la forma indicada|\n",
    "| ones(*shape*) | array relleno con unos de la forma indicada|\n",
    "| empty(*shape*) | array **sin inicializar** (*) de la forma indicada|\n",
    "| arange(*start, end, step=1*) | crea un array de 1 dimensión desde start hasta end con el intervalo determinado (por defecto 1) |\n",
    "| linspace(*start, end, num=50*) | crea un array de 1 dimensión desde start hasta end dividido en el número de elementos determinado (por defecto 50)|\n",
    "\n",
    "\n",
    "(*) **Sin inicializar** significa que el array que crea empty no se rellena al crearlo con valores determinados, tendrá valores cualquiera que no significan nada, lo usaremos\n",
    "    cuando queramos crear un array vacío para rellenarlo después con otros valores. También podríamos utilizar zeros\n",
    "    o ones pero como ya vamos a rellenarlo con los valores que queremos sería un poco menos eficiente porque estos\n",
    "    arrays sí se inicializan, a ceros y unos, respectivamente."
   ]
  },
  {
   "cell_type": "markdown",
   "metadata": {},
   "source": [
    "<h3 style=\"color: #d60e8c;\">Propiedades de los arrays</h3>\n",
    "\n",
    "| Propiedad | Devuelve  | Descripción |\n",
    "| :-- | :-- | :-- |\n",
    "| ndim | int |  número de dimensiones (ejes) |\n",
    "| shape |  tupla |  Forma del array (longitud de cada dimension) |\n",
    "| size | int | Número de elementos |\n",
    "| dtype| dtype | Tipo de los elementos |"
   ]
  },
  {
   "cell_type": "markdown",
   "metadata": {},
   "source": [
    "<h3 style=\"color: #d60e8c;\">Vectores: 1 dimensión</h3>\n"
   ]
  },
  {
   "cell_type": "code",
   "execution_count": 7,
   "metadata": {},
   "outputs": [],
   "source": [
    "vector = np.array([2, 1, 5, 3, 7, 4, 6, 8], dtype=np.int64)  # Se puede indicar el tipo de los elemento\n",
    "ceros = np.zeros(2)\n",
    "unos = np.ones(2)\n",
    "vacio = np.empty(2)\n",
    "interv1 = np.arange(2, 9, 2)\n",
    "interv2 = np.linspace(0, 10, num=5)"
   ]
  },
  {
   "cell_type": "code",
   "execution_count": 3,
   "metadata": {},
   "outputs": [
    {
     "name": "stdout",
     "output_type": "stream",
     "text": [
      "vector: [2 1 5 3 7 4 6 8]\n",
      "ceros: [0. 0.]\n",
      "unos: [1. 1.]\n",
      "vacio: [-2.31584178e+77 -2.31584178e+77]\n",
      "interv1: [2 4 6 8]\n",
      "interv2: [ 0.   2.5  5.   7.5 10. ]\n"
     ]
    }
   ],
   "source": [
    "print(f\"vector: {vector}\")\n",
    "print(f\"ceros: {ceros}\")\n",
    "print(f\"unos: {unos}\")\n",
    "print(f\"vacio: {vacio}\")   # Puede contener cualquier valor, no está inicializado\n",
    "print(f\"interv1: {interv1}\")\n",
    "print(f\"interv2: {interv2}\")"
   ]
  },
  {
   "cell_type": "markdown",
   "metadata": {},
   "source": [
    "Ejemplo de propiedades de los arrays sobre el array al que hemos llamado \"vector\":"
   ]
  },
  {
   "cell_type": "code",
   "execution_count": 13,
   "metadata": {},
   "outputs": [
    {
     "name": "stdout",
     "output_type": "stream",
     "text": [
      "Número de dimensiones: 1\n",
      "Forma: (8,)\n",
      "Tamaño: 8\n",
      "Tipo de dato de los elementos: int64\n"
     ]
    }
   ],
   "source": [
    "print(f\"Número de dimensiones: {vector.ndim}\")\n",
    "print(f\"Forma: {vector.shape}\")\n",
    "print(f\"Tamaño: {vector.size}\")\n",
    "print(f\"Tipo de dato de los elementos: {vector.dtype}\")"
   ]
  },
  {
   "cell_type": "markdown",
   "metadata": {},
   "source": [
    "<h3 style=\"color: #d60e8c;\">Matrices: 2 dimensiones</h3>"
   ]
  },
  {
   "cell_type": "code",
   "execution_count": 10,
   "metadata": {},
   "outputs": [],
   "source": [
    "matriz = np.array([[1, 2, 3, 4], [5, 6, 7, 8], [9, 10, 11, 12]])\n",
    "identidad = np.identity(2)"
   ]
  },
  {
   "cell_type": "code",
   "execution_count": 11,
   "metadata": {},
   "outputs": [
    {
     "name": "stdout",
     "output_type": "stream",
     "text": [
      "matriz: \n",
      "[[ 1  2  3  4]\n",
      " [ 5  6  7  8]\n",
      " [ 9 10 11 12]]\n",
      "identidad: \n",
      "[[1. 0.]\n",
      " [0. 1.]]\n"
     ]
    }
   ],
   "source": [
    "print(f\"matriz: \\n{matriz}\")\n",
    "print(f\"identidad: \\n{identidad}\")"
   ]
  },
  {
   "cell_type": "markdown",
   "metadata": {},
   "source": [
    "Ejemplo de propiedades de los arrays sobre el array al que hemos llamado \"matriz\":"
   ]
  },
  {
   "cell_type": "code",
   "execution_count": 14,
   "metadata": {},
   "outputs": [
    {
     "name": "stdout",
     "output_type": "stream",
     "text": [
      "Número de dimensiones: 2\n",
      "Forma: (3, 4)\n",
      "Tamaño: 12\n",
      "Tipo de dato de los elementos: int64\n"
     ]
    }
   ],
   "source": [
    "print(f\"Número de dimensiones: {matriz.ndim}\")\n",
    "print(f\"Forma: {matriz.shape}\")\n",
    "print(f\"Tamaño: {matriz.size}\")\n",
    "print(f\"Tipo de dato de los elementos: {matriz.dtype}\")"
   ]
  },
  {
   "cell_type": "markdown",
   "metadata": {},
   "source": [
    "<a name=\"operaciones\"></a>\n",
    "<h2 style=\"color: #d60e8c;\">Operaciones con arrays</h2>\n",
    "<hr style=\"border: 0.5px solid #d60e8c;\">"
   ]
  },
  {
   "cell_type": "markdown",
   "metadata": {},
   "source": [
    "<h3 style=\"color: #d60e8c;\">Operaciones matemáticas</h3>\n",
    "\n",
    "| Método | Descripción |\n",
    "| :-- | :-- |\n",
    "| .max()  | Devuelve el valor máximo del array|\n",
    "| .min()  | Devuelve el valor mínimo del array|\n",
    "| .argmax() | Devuelve el índice del valor máximo |\n",
    "| .argmin() | Devuelve el índice del valor mínimo |\n",
    "| .sum() | Suma de los elementos del array |\n",
    "| .mean()  | Media de los de los elementos del array  |\n",
    "| .std() | Desviación estándar de los elementos del array |\n",
    "| .cumsum() | Array con la suma acumulada de los elementos del array |"
   ]
  },
  {
   "cell_type": "code",
   "execution_count": 15,
   "metadata": {},
   "outputs": [
    {
     "name": "stdout",
     "output_type": "stream",
     "text": [
      "vector: [2 1 5 3 7 4 6 8]\n",
      "Máximo: 8\n",
      "Índice del máximo: 7\n",
      "Mínimo: 1\n",
      "Índice del mínimo: 1\n",
      "Suma: 36\n",
      "Media: 4.5\n",
      "Desviación: 2.291\n",
      "Suma acumulada: [ 2  3  8 11 18 22 28 36]\n"
     ]
    }
   ],
   "source": [
    "print(f\"vector: {vector}\")\n",
    "print(f\"Máximo: {vector.max()}\")\n",
    "print(f\"Índice del máximo: {vector.argmax()}\")\n",
    "print(f\"Mínimo: {vector.min()}\")\n",
    "print(f\"Índice del mínimo: {vector.argmin()}\")\n",
    "print(f\"Suma: {vector.sum()}\")\n",
    "print(f\"Media: {vector.mean()}\")\n",
    "print(f\"Desviación: {vector.std():.3f}\")\n",
    "print(f\"Suma acumulada: {vector.cumsum()}\")"
   ]
  },
  {
   "cell_type": "markdown",
   "metadata": {},
   "source": [
    "<h3 style=\"color: #d60e8c;\">Otras operaciones</h3>\n",
    "\n",
    "| Método | Descripción |\n",
    "| :-- | :-- |\n",
    "| sort | Devuelve otro array con los elementos ordenados|\n",
    "| unique  | Devuelve otro array con los elementos, sin los repetidos (y puede devolver también las posiciones)|\n",
    "| flip  | Da la vuelta al array|\n"
   ]
  },
  {
   "cell_type": "code",
   "execution_count": 16,
   "metadata": {},
   "outputs": [
    {
     "name": "stdout",
     "output_type": "stream",
     "text": [
      "vector antes de sort:   [2 1 5 3 7 4 6 8]\n",
      "vector después de sort: [2 1 5 3 7 4 6 8]\n",
      "ordenado: [1 2 3 4 5 6 7 8]\n"
     ]
    }
   ],
   "source": [
    "print(f\"vector antes de sort:   {vector}\")\n",
    "ordenado = np.sort(vector)\n",
    "print(f\"vector después de sort: {vector}\")\n",
    "print(f\"ordenado: {ordenado}\")"
   ]
  },
  {
   "cell_type": "markdown",
   "metadata": {},
   "source": [
    "Con listas es distinto, se modifica la propia lista:"
   ]
  },
  {
   "cell_type": "code",
   "execution_count": 17,
   "metadata": {},
   "outputs": [
    {
     "name": "stdout",
     "output_type": "stream",
     "text": [
      "lista antes de sort:   [4, 5, 7, 1]\n",
      "lista después de sort: [1, 4, 5, 7]\n"
     ]
    }
   ],
   "source": [
    "lista = [4,5,7,1]\n",
    "print(f\"lista antes de sort:   {lista}\")\n",
    "lista.sort()\n",
    "print(f\"lista después de sort: {lista}\")"
   ]
  },
  {
   "cell_type": "code",
   "execution_count": 18,
   "metadata": {},
   "outputs": [
    {
     "name": "stdout",
     "output_type": "stream",
     "text": [
      "vector2:    [3 4 5 6 6 3 1]\n",
      "unicos:     [1 3 4 5 6]\n",
      "posiciones: [6 0 1 2 3]\n"
     ]
    }
   ],
   "source": [
    "vector2 = np.array([3,4,5,6,6,3,1])\n",
    "\n",
    "unicos, posiciones = np.unique(vector2, return_index=True)\n",
    "print(f\"vector2:    {vector2}\")\n",
    "print(f\"unicos:     {unicos}\")\n",
    "print(f\"posiciones: {posiciones}\")"
   ]
  },
  {
   "cell_type": "code",
   "execution_count": 19,
   "metadata": {},
   "outputs": [
    {
     "name": "stdout",
     "output_type": "stream",
     "text": [
      "vector:    [2 1 5 3 7 4 6 8]\n",
      "reflejado: [8 6 4 7 3 5 1 2]\n"
     ]
    }
   ],
   "source": [
    "reflejado = np.flip(vector)\n",
    "\n",
    "print(f\"vector:    {vector}\")\n",
    "print(f\"reflejado: {reflejado}\")"
   ]
  },
  {
   "cell_type": "markdown",
   "metadata": {},
   "source": [
    "<a name=\"matrices\"></a>\n",
    "<h2 style=\"color: #d60e8c;\">Matrices</h2>\n",
    "<hr style=\"border: 0.5px solid #d60e8c;\">"
   ]
  },
  {
   "cell_type": "markdown",
   "metadata": {},
   "source": [
    "A partir de la matriz A, que creamos a continuación, veremos como acceder a los elementos de la matriz:"
   ]
  },
  {
   "cell_type": "code",
   "execution_count": 20,
   "metadata": {},
   "outputs": [],
   "source": [
    "A = np.array([[11, 12, 13], [21, 22, 23], [31, 32, 33]])"
   ]
  },
  {
   "cell_type": "markdown",
   "metadata": {},
   "source": [
    "Usamos los corchetes para acceder a los distintos elementos del array. En la figura siguiente, se muestra la correspondencia entre la representación del array 2D como lista de listas y en forma de matrix 3x3:"
   ]
  },
  {
   "cell_type": "markdown",
   "metadata": {},
   "source": [
    "<img src=\"notebooks-img/NumTwoEg.png\" width=\"500\" />"
   ]
  },
  {
   "cell_type": "markdown",
   "metadata": {},
   "source": [
    "Podemos acceder al elemento de la 2ª columna - 3ª fila como se muestra en la figura siguiente:"
   ]
  },
  {
   "cell_type": "markdown",
   "metadata": {},
   "source": [
    "<img src=\"notebooks-img/NumTwoFT.png\" width=\"400\" />"
   ]
  },
  {
   "cell_type": "markdown",
   "metadata": {},
   "source": [
    "Usamos los corchetes para indicar los índices de fila y columna del elemento que queremos:"
   ]
  },
  {
   "cell_type": "code",
   "execution_count": 21,
   "metadata": {
    "collapsed": false,
    "jupyter": {
     "outputs_hidden": false
    }
   },
   "outputs": [
    {
     "data": {
      "text/plain": [
       "23"
      ]
     },
     "execution_count": 21,
     "metadata": {},
     "output_type": "execute_result"
    }
   ],
   "source": [
    "# Elemento de la segunda fila y tercera columna\n",
    "A[1, 2]"
   ]
  },
  {
   "cell_type": "markdown",
   "metadata": {},
   "source": [
    " Considerando los elementos mostrados en la siguiente figura:"
   ]
  },
  {
   "cell_type": "markdown",
   "metadata": {},
   "source": [
    "<img src=\"notebooks-img/NumTwoFF.png\" width=\"400\" />"
   ]
  },
  {
   "cell_type": "markdown",
   "metadata": {},
   "source": [
    "Podemos acceder a los elementos de la siguiente forma:"
   ]
  },
  {
   "cell_type": "code",
   "execution_count": 22,
   "metadata": {
    "collapsed": false,
    "jupyter": {
     "outputs_hidden": false
    }
   },
   "outputs": [
    {
     "data": {
      "text/plain": [
       "11"
      ]
     },
     "execution_count": 22,
     "metadata": {},
     "output_type": "execute_result"
    }
   ],
   "source": [
    "# Acceso al elemento de la primera fila y primera columna\n",
    "A[0, 0]"
   ]
  },
  {
   "cell_type": "markdown",
   "metadata": {},
   "source": [
    "También podemos utilizar <i>slicing</i> en los arrays NumPy. Considerando la siguiente figura, si queremos obtener los elementos de la dos primeras columnas en la primera fila:"
   ]
  },
  {
   "cell_type": "markdown",
   "metadata": {},
   "source": [
    "<img src=\"notebooks-img/NumTwoFSF.png\" width=\"400\" />"
   ]
  },
  {
   "cell_type": "markdown",
   "metadata": {},
   "source": [
    " Podemos hacerlo de la siguiente forma:"
   ]
  },
  {
   "cell_type": "code",
   "execution_count": 24,
   "metadata": {
    "collapsed": false,
    "jupyter": {
     "outputs_hidden": false
    }
   },
   "outputs": [
    {
     "data": {
      "text/plain": [
       "array([11, 12])"
      ]
     },
     "execution_count": 24,
     "metadata": {},
     "output_type": "execute_result"
    }
   ],
   "source": [
    "# Acceso los elemenos de la primera fila que están en la primera y segunda columna\n",
    "\n",
    "A[0, 0:2]"
   ]
  },
  {
   "cell_type": "markdown",
   "metadata": {},
   "source": [
    "De la misma forma, podemos obtener dos filas de la tercera columna:"
   ]
  },
  {
   "cell_type": "code",
   "execution_count": 25,
   "metadata": {
    "collapsed": false,
    "jupyter": {
     "outputs_hidden": false
    }
   },
   "outputs": [
    {
     "data": {
      "text/plain": [
       "array([23, 33])"
      ]
     },
     "execution_count": 25,
     "metadata": {},
     "output_type": "execute_result"
    }
   ],
   "source": [
    "# Acceso a los elementos de la segunda y tercera fila en la tercera columna\n",
    "A[1:3, 2]"
   ]
  },
  {
   "cell_type": "markdown",
   "metadata": {},
   "source": [
    "Son los elementos marcados en la figura siguiente: "
   ]
  },
  {
   "cell_type": "markdown",
   "metadata": {},
   "source": [
    "<img src=\"notebooks-img/NumTwoTST.png\" width=\"400\" />"
   ]
  },
  {
   "cell_type": "code",
   "execution_count": 26,
   "metadata": {},
   "outputs": [
    {
     "data": {
      "text/plain": [
       "array([11, 12, 13])"
      ]
     },
     "execution_count": 26,
     "metadata": {},
     "output_type": "execute_result"
    }
   ],
   "source": [
    "# Acceso a todos los elementos de la primera fila:\n",
    "A[0, :]"
   ]
  },
  {
   "cell_type": "code",
   "execution_count": 27,
   "metadata": {},
   "outputs": [
    {
     "data": {
      "text/plain": [
       "array([11, 21, 31])"
      ]
     },
     "execution_count": 27,
     "metadata": {},
     "output_type": "execute_result"
    }
   ],
   "source": [
    "# Acceso a todos los elementos de la primera columna:\n",
    "A[:, 0]"
   ]
  },
  {
   "cell_type": "code",
   "execution_count": 28,
   "metadata": {},
   "outputs": [
    {
     "data": {
      "text/plain": [
       "array([[11, 12],\n",
       "       [21, 22]])"
      ]
     },
     "execution_count": 28,
     "metadata": {},
     "output_type": "execute_result"
    }
   ],
   "source": [
    "# Acceso a una submatriz:\n",
    "A[0:2, 0:2]"
   ]
  },
  {
   "cell_type": "markdown",
   "metadata": {},
   "source": [
    "<h3 style=\"color: #d60e8c;\">Recorrer todos los elementos de una matriz</h3>\n",
    "\n",
    "Por tanto, podríamos recorrer la matriz con dos bucles anidados, uno para recorrer las filas y otro para recorrer las columnas de cada fila. El siguiente programa recorre la matriz A y muestra sus elementos por pantalla:"
   ]
  },
  {
   "cell_type": "code",
   "execution_count": 29,
   "metadata": {},
   "outputs": [
    {
     "name": "stdout",
     "output_type": "stream",
     "text": [
      "11 12 13 \n",
      "21 22 23 \n",
      "31 32 33 \n"
     ]
    }
   ],
   "source": [
    "filas, columnas = A.shape\n",
    "\n",
    "for i in range(filas):  \n",
    "    for j in range(columnas):  \n",
    "        print(A[i,j], end=\" \") # Muestra el elemento y un espacio a continuación\n",
    "    print() # Para mostrar un salto de línea entre cad fila\n"
   ]
  },
  {
   "cell_type": "markdown",
   "metadata": {},
   "source": [
    "<a name=\"opmatrices\"></a>\n",
    "<h2 style=\"color: #d60e8c;\">Operaciones con matrices</h2>\n",
    "<hr style=\"border: 0.5px solid #d60e8c;\">"
   ]
  },
  {
   "cell_type": "markdown",
   "metadata": {},
   "source": [
    "<h3 style=\"color: #d60e8c;\">Suma de matrices</h3>"
   ]
  },
  {
   "cell_type": "markdown",
   "metadata": {},
   "source": [
    "Podemos sumar arrays NumPy de la misma forma que sumamos matrices. La suma de matrices de <code>X</code> e <code>Y</code> se muestra a continuación:"
   ]
  },
  {
   "cell_type": "markdown",
   "metadata": {},
   "source": [
    "<img src=\"notebooks-img/NumTwoAdd.png\" width=\"500\" />"
   ]
  },
  {
   "cell_type": "markdown",
   "metadata": {},
   "source": [
    "Los arrays NumPy correspondientes a <code>X</code> e <code>Y</code>:"
   ]
  },
  {
   "cell_type": "code",
   "execution_count": 31,
   "metadata": {
    "collapsed": false,
    "jupyter": {
     "outputs_hidden": false
    }
   },
   "outputs": [
    {
     "data": {
      "text/plain": [
       "array([[1, 0],\n",
       "       [0, 1]])"
      ]
     },
     "execution_count": 31,
     "metadata": {},
     "output_type": "execute_result"
    }
   ],
   "source": [
    "# Creación de un array NumPy X\n",
    "\n",
    "X = np.array([[1, 0], [0, 1]]) \n",
    "X"
   ]
  },
  {
   "cell_type": "code",
   "execution_count": 32,
   "metadata": {
    "collapsed": false,
    "jupyter": {
     "outputs_hidden": false
    }
   },
   "outputs": [
    {
     "data": {
      "text/plain": [
       "array([[2, 1],\n",
       "       [1, 2]])"
      ]
     },
     "execution_count": 32,
     "metadata": {},
     "output_type": "execute_result"
    }
   ],
   "source": [
    "# Creación de un array NumPy Y\n",
    "\n",
    "Y = np.array([[2, 1], [1, 2]]) \n",
    "Y"
   ]
  },
  {
   "cell_type": "markdown",
   "metadata": {},
   "source": [
    "Podemos sumarlos de la siguiente forma:"
   ]
  },
  {
   "cell_type": "code",
   "execution_count": 33,
   "metadata": {
    "collapsed": false,
    "jupyter": {
     "outputs_hidden": false
    }
   },
   "outputs": [
    {
     "data": {
      "text/plain": [
       "array([[3, 1],\n",
       "       [1, 3]])"
      ]
     },
     "execution_count": 33,
     "metadata": {},
     "output_type": "execute_result"
    }
   ],
   "source": [
    "# Suma de X e Y\n",
    "\n",
    "Z = X + Y\n",
    "Z"
   ]
  },
  {
   "cell_type": "markdown",
   "metadata": {},
   "source": [
    "<h3 style=\"color: #d60e8c;\">Multiplicación por un escalar</h3>"
   ]
  },
  {
   "cell_type": "markdown",
   "metadata": {},
   "source": [
    "La multiplicación de un array NumPy por un escalar también es idéntica a multiplicar una matriz por un escalar. Si multiplicamos la matriz <code>Y</code> por el escarlar 2, simplemente multiplicamos cada elemento de la matriz por 2, como se muestra en la figura siguiente:"
   ]
  },
  {
   "cell_type": "markdown",
   "metadata": {},
   "source": [
    "<img src=\"notebooks-img/NumTwoDb.png\" width=\"500\" />"
   ]
  },
  {
   "cell_type": "markdown",
   "metadata": {},
   "source": [
    "Podemos hacer la misma operación con NumPy de la siguiente forma:"
   ]
  },
  {
   "cell_type": "code",
   "execution_count": 34,
   "metadata": {
    "collapsed": false,
    "jupyter": {
     "outputs_hidden": false
    }
   },
   "outputs": [
    {
     "data": {
      "text/plain": [
       "array([[2, 1],\n",
       "       [1, 2]])"
      ]
     },
     "execution_count": 34,
     "metadata": {},
     "output_type": "execute_result"
    }
   ],
   "source": [
    "# Creamos un array NumPy Y\n",
    "\n",
    "Y = np.array([[2, 1], [1, 2]]) \n",
    "Y"
   ]
  },
  {
   "cell_type": "code",
   "execution_count": 35,
   "metadata": {
    "collapsed": false,
    "jupyter": {
     "outputs_hidden": false
    }
   },
   "outputs": [
    {
     "data": {
      "text/plain": [
       "array([[4, 2],\n",
       "       [2, 4]])"
      ]
     },
     "execution_count": 35,
     "metadata": {},
     "output_type": "execute_result"
    }
   ],
   "source": [
    "# Multiplicamos Y por 2\n",
    "\n",
    "Z = 2 * Y\n",
    "Z"
   ]
  },
  {
   "cell_type": "markdown",
   "metadata": {},
   "source": [
    "<h3 style=\"color: #d60e8c;\">Traspuesta de una matriz</h3>"
   ]
  },
  {
   "cell_type": "markdown",
   "metadata": {},
   "source": [
    "Podemos usar el atributo <code>T</code> para calcular la matriz traspuesta"
   ]
  },
  {
   "cell_type": "code",
   "execution_count": 36,
   "metadata": {
    "collapsed": false,
    "jupyter": {
     "outputs_hidden": false
    }
   },
   "outputs": [
    {
     "data": {
      "text/plain": [
       "array([[1, 1],\n",
       "       [2, 2],\n",
       "       [3, 3]])"
      ]
     },
     "execution_count": 36,
     "metadata": {},
     "output_type": "execute_result"
    }
   ],
   "source": [
    "# Creamos una matriz C\n",
    "\n",
    "C = np.array([[1,1],[2,2],[3,3]])\n",
    "C"
   ]
  },
  {
   "cell_type": "code",
   "execution_count": 37,
   "metadata": {
    "collapsed": false,
    "jupyter": {
     "outputs_hidden": false
    }
   },
   "outputs": [
    {
     "data": {
      "text/plain": [
       "array([[1, 2, 3],\n",
       "       [1, 2, 3]])"
      ]
     },
     "execution_count": 37,
     "metadata": {},
     "output_type": "execute_result"
    }
   ],
   "source": [
    "# Obtenemos la traspuesta de C\n",
    "\n",
    "C.T"
   ]
  },
  {
   "cell_type": "markdown",
   "metadata": {},
   "source": [
    "<h3 style=\"color: #d60e8c;\">Resta de matrices</h3>"
   ]
  },
  {
   "cell_type": "code",
   "execution_count": 38,
   "metadata": {},
   "outputs": [
    {
     "data": {
      "text/plain": [
       "array([[-1, -1],\n",
       "       [-1, -1]])"
      ]
     },
     "execution_count": 38,
     "metadata": {},
     "output_type": "execute_result"
    }
   ],
   "source": [
    "X - Y"
   ]
  },
  {
   "cell_type": "markdown",
   "metadata": {},
   "source": [
    "<h3 style=\"color: #d60e8c;\">Multiplicación de los elementos de dos matrices</h3>"
   ]
  },
  {
   "cell_type": "code",
   "execution_count": 39,
   "metadata": {},
   "outputs": [
    {
     "data": {
      "text/plain": [
       "array([[2, 0],\n",
       "       [0, 2]])"
      ]
     },
     "execution_count": 39,
     "metadata": {},
     "output_type": "execute_result"
    }
   ],
   "source": [
    "X * Y"
   ]
  },
  {
   "cell_type": "markdown",
   "metadata": {},
   "source": [
    "<h3 style=\"color: #d60e8c;\">División de los elementos de dos matrices</h3>"
   ]
  },
  {
   "cell_type": "code",
   "execution_count": 40,
   "metadata": {},
   "outputs": [
    {
     "data": {
      "text/plain": [
       "array([[0.5, 0. ],\n",
       "       [0. , 0.5]])"
      ]
     },
     "execution_count": 40,
     "metadata": {},
     "output_type": "execute_result"
    }
   ],
   "source": [
    "X / Y"
   ]
  },
  {
   "cell_type": "markdown",
   "metadata": {},
   "source": [
    "<h3 style=\"color: #d60e8c;\">Multiplicación de matrices</h3>\n",
    "\n",
    "<img src=\"notebooks-img/NumMultMat.png\" width=\"800\" />"
   ]
  },
  {
   "cell_type": "code",
   "execution_count": 41,
   "metadata": {},
   "outputs": [
    {
     "data": {
      "text/plain": [
       "array([[2, 1],\n",
       "       [1, 2]])"
      ]
     },
     "execution_count": 41,
     "metadata": {},
     "output_type": "execute_result"
    }
   ],
   "source": [
    "X @ Y"
   ]
  },
  {
   "cell_type": "markdown",
   "metadata": {},
   "source": [
    "<a name=\"ejemplo\"></a>\n",
    "<h2 style=\"color: #d60e8c;\">Ejemplo de ejercicio con matrices</h2>\n",
    "<hr style=\"border: 0.5px solid #d60e8c;\">\n"
   ]
  },
  {
   "cell_type": "markdown",
   "metadata": {},
   "source": [
    "Ejemplo, paso a paso, de programa que calcula la suma y la media de las filas de una matriz utilizando operaciones de arrays de NumPy.\n",
    "\n",
    "\n",
    "1. Pedimos la dimensión de la matriz, es decir, el número de filas y columnas:"
   ]
  },
  {
   "cell_type": "code",
   "execution_count": 42,
   "metadata": {},
   "outputs": [
    {
     "name": "stdout",
     "output_type": "stream",
     "text": [
      "Filas: 3\n",
      "Columnas: 4\n"
     ]
    }
   ],
   "source": [
    "filas = int(input(\"Número de filas de la matriz (>0):\"))\n",
    "while filas < 1:\n",
    "    filas = int(input(\"Número de filas de la matriz(>0):\"))\n",
    "\n",
    "columnas = int(input(\"Numero de columnas de la matriz(>0): \"))\n",
    "while columnas < 1:    \n",
    "    columnas = int(input(\"Numero de columnas de la matriz(>0): \"))\n",
    "\n",
    "print(f\"Filas: {filas}\")\n",
    "print(f\"Columnas: {columnas}\")\n"
   ]
  },
  {
   "cell_type": "markdown",
   "metadata": {},
   "source": [
    "2. Creamos una matriz vacía con elementos de tipo entero:"
   ]
  },
  {
   "cell_type": "code",
   "execution_count": 43,
   "metadata": {},
   "outputs": [],
   "source": [
    "matriz = np.empty((filas,columnas), dtype=np.int64)"
   ]
  },
  {
   "cell_type": "markdown",
   "metadata": {},
   "source": [
    "3. Pedimos al usuario los elementos de la matriz y asignamos el valor a la matriz en la posición correspondiente:"
   ]
  },
  {
   "cell_type": "code",
   "execution_count": 44,
   "metadata": {},
   "outputs": [
    {
     "name": "stdout",
     "output_type": "stream",
     "text": [
      "[[ 1  2  3  4]\n",
      " [ 5  6  7  8]\n",
      " [ 9 10 11 12]]\n"
     ]
    }
   ],
   "source": [
    "for i in range(filas):\n",
    "    for j in range(columnas):\n",
    "        elemento = int(input(f\"Introduce un valor para matriz[{i},{j}]: \"))\n",
    "        matriz[i,j] = elemento\n",
    "\n",
    "print(matriz)"
   ]
  },
  {
   "cell_type": "markdown",
   "metadata": {},
   "source": [
    "4. Creamos una lista con las suma de cada fila y otra lista con la media de cada fila utilizando las operaciones sobre arrays de NumPy:"
   ]
  },
  {
   "cell_type": "code",
   "execution_count": 47,
   "metadata": {},
   "outputs": [],
   "source": [
    "lista_sumas = []\n",
    "lista_medias = []\n",
    "for fila in matriz:    \n",
    "    # Cada fila de la matriz es un array -> podemos usas las operaciones de arrays\n",
    "    lista_sumas.append(fila.sum()) \n",
    "    lista_medias.append(fila.mean())"
   ]
  },
  {
   "cell_type": "markdown",
   "metadata": {},
   "source": [
    "5. Mostramos las listas:"
   ]
  },
  {
   "cell_type": "code",
   "execution_count": 46,
   "metadata": {},
   "outputs": [
    {
     "name": "stdout",
     "output_type": "stream",
     "text": [
      "Lista sumas: \n",
      "10 26 42 \n",
      "Lista medias:\n",
      "2.5 6.5 10.5 "
     ]
    }
   ],
   "source": [
    "print(\"Lista sumas: \")\n",
    "for elemento in lista_sumas:\n",
    "    print(elemento, end= \" \")\n",
    "\n",
    "print()\n",
    "print(\"Lista medias:\")\n",
    "for elemento in lista_medias:\n",
    "    print(elemento, end=\" \")"
   ]
  },
  {
   "cell_type": "markdown",
   "metadata": {},
   "source": [
    "<h3 style=\"color: #d60e8c;\">Programa completo (sin funciones)</h3>"
   ]
  },
  {
   "cell_type": "code",
   "execution_count": 48,
   "metadata": {},
   "outputs": [
    {
     "name": "stdout",
     "output_type": "stream",
     "text": [
      "Lista sumas: \n",
      "10 26 42 \n",
      "Lista medias:\n",
      "2.5 6.5 10.5 \n"
     ]
    }
   ],
   "source": [
    "\"\"\"Programa que calcula la suma y la media de las filas de una matriz utilizando operaciones de arrays de NumPy\"\"\"\n",
    "\n",
    "# Pide al usuario número de filas y columnas\n",
    "filas = int(input(\"Número de filas de la matriz (>0):\"))\n",
    "while filas < 1:\n",
    "    filas = int(input(\"Número de filas de la matriz(>0):\"))\n",
    "\n",
    "columnas = int(input(\"Numero de columnas de la matriz(>0): \"))\n",
    "while columnas < 1:    \n",
    "    columnas = int(input(\"Numero de columnas de la matriz(>0): \"))\n",
    "\n",
    "# Crea matriz y rellana con los valores pedidos al usuario\n",
    "matriz = np.empty((filas,columnas), dtype=np.int64)\n",
    "for i in range(filas):\n",
    "    for j in range(columnas):\n",
    "        elemento = int(input(f\"Introduce un valor para matriz[{i},{j}]: \"))\n",
    "        matriz[i,j] = elemento\n",
    "\n",
    "# Crea las listas con las sumas y las medias\n",
    "lista_sumas = []\n",
    "lista_medias = []\n",
    "for fila in matriz:    \n",
    "    lista_sumas.append(fila.sum())\n",
    "    lista_medias.append(fila.mean())\n",
    "\n",
    "# Muestra la lista de sumas\n",
    "print(\"Lista sumas: \")\n",
    "for elemento in lista_sumas:\n",
    "    print(elemento, end= \" \")\n",
    "print() # Para hacer un salto de línea\n",
    "\n",
    "# Muestra la lista de medias\n",
    "print(\"Lista medias:\")\n",
    "for elemento in lista_medias:\n",
    "    print(elemento, end=\" \")\n",
    "print() # Para hacer un salto de línea"
   ]
  },
  {
   "cell_type": "markdown",
   "metadata": {},
   "source": [
    "<h3 style=\"color: #d60e8c;\">Programa completo (con funciones)</h3>"
   ]
  },
  {
   "cell_type": "code",
   "execution_count": 51,
   "metadata": {},
   "outputs": [
    {
     "name": "stdout",
     "output_type": "stream",
     "text": [
      "Lista de sumas: \n",
      "10 26 42 \n",
      "Lista de medias: \n",
      "2.5 6.5 10.5 \n"
     ]
    }
   ],
   "source": [
    "\"\"\"Programa que calcula la suma y la media de las filas de una matriz utilizando operaciones de arrays de NumPy\"\"\"\n",
    "\n",
    "def pedir_natural(msg):\n",
    "    num = int(input(f\"{msg} (>0): \"))\n",
    "    while num<1:\n",
    "        num = int(input(f\"{msg} (>0): \"))\n",
    "    return num\n",
    "\n",
    "def crear_y_rellenar_matriz(filas, columnas):\n",
    "    matriz = np.empty((filas,columnas), dtype=np.int64)\n",
    "    for i in range(filas):\n",
    "        for j in range(columnas):\n",
    "            elemento = int(input(f\"Introduce un valor para matriz[{i},{j}]: \"))\n",
    "            matriz[i,j] = elemento    \n",
    "    return matriz    \n",
    "\n",
    "def crear_listas_sumas_medias(matriz):\n",
    "    lista_sumas = []\n",
    "    lista_medias = []\n",
    "    for fila in matriz:    \n",
    "        lista_sumas.append(fila.sum())\n",
    "        lista_medias.append(fila.mean())    \n",
    "    return lista_sumas, lista_medias\n",
    "\n",
    "def mostrar_lista(lista):\n",
    "    for elemento in lista:\n",
    "        print(elemento, end=\" \")\n",
    "    print() # Para hacer un salto de línea\n",
    "\n",
    "\n",
    "def main():\n",
    "    filas = pedir_natural(\"Introduce el número de filas de la matriz\")\n",
    "    columnas = pedir_natural(\"Introduce el número de columans de la matriz\")\n",
    "    \n",
    "    matriz = crear_y_rellenar_matriz(filas, columnas)\n",
    "    sumas, medias = crear_listas_sumas_medias(matriz)\n",
    "\n",
    "    print(\"Lista de sumas: \")\n",
    "    mostrar_lista(sumas)\n",
    "    print(\"Lista de medias: \")\n",
    "    mostrar_lista(medias)\n",
    "\n",
    "\n",
    "if __name__ == \"__main__\":\n",
    "    main()"
   ]
  },
  {
   "cell_type": "markdown",
   "metadata": {},
   "source": [
    "<h3 style=\"color: #d60e8c;\">Otra forma de calcular las sumas y medias de las filas</h3>\n",
    "\n",
    "Se puede hacer el cálculo de la suma y media de cada fila sin utilizar NumPy. Es la forma que habría que utilizar cuando no exista una operación de NumPy predefinida. Se trata de recorrer la matriz de la forma vista en la primera parte de esta cuaderno."
   ]
  },
  {
   "cell_type": "code",
   "execution_count": 52,
   "metadata": {},
   "outputs": [],
   "source": [
    "def crear_listas_sumas_medias_v2(matriz):\n",
    "    lista_sumas = []\n",
    "    lista_medias = []\n",
    "    filas, columnas = matriz.shape\n",
    "    for i in range(filas):  \n",
    "        suma_fila = 0\n",
    "        for j in range(columnas):  \n",
    "            suma_fila = suma_fila + matriz[i,j]\n",
    "        lista_sumas.append(suma_fila)\n",
    "        lista_medias.append(suma_fila/columnas)    \n",
    "    \n",
    "    return lista_sumas, lista_medias"
   ]
  },
  {
   "cell_type": "markdown",
   "metadata": {},
   "source": [
    "<h3 style=\"color: #d60e8c;\">Programa completo utilizando las dos formas de obtener sumas y medias</h3>"
   ]
  },
  {
   "cell_type": "code",
   "execution_count": 55,
   "metadata": {},
   "outputs": [
    {
     "name": "stdout",
     "output_type": "stream",
     "text": [
      "Cálculo CON NumPy \n",
      "----------------- \n",
      "Lista de sumas: \n",
      "10 26 42 \n",
      "Lista de medias: \n",
      "2.5 6.5 10.5 \n",
      "Cálculo SIN NumPy \n",
      "----------------- \n",
      "Lista de sumas: \n",
      "10 26 42 \n",
      "Lista de medias: \n",
      "2.5 6.5 10.5 \n"
     ]
    }
   ],
   "source": [
    "\"\"\"Programa que calcula la suma y la media de las filas de una matriz.\n",
    "El cálculo se realiza de dos formas:\n",
    "- Utilizando operaciones de arrays de NumPy\n",
    "- Recorriendo cada fila para obtener la suma y la media.\n",
    "\"\"\"\n",
    "\n",
    "def pedir_natural(msg):\n",
    "    \"\"\"Pide un número natural al usuario\"\"\"\n",
    "    num = int(input(f\"{msg} (>0): \"))\n",
    "    while num<1:\n",
    "        num = int(input(f\"{msg} (>0): \"))\n",
    "    return num\n",
    "\n",
    "def crear_y_rellenar_matriz(filas, columnas):\n",
    "    \"\"\"Crear una matriz vacía de una dimensión determinada y pide los elementos al usuario\"\"\"\n",
    "    matriz = np.empty((filas,columnas), dtype=np.int64)\n",
    "    for i in range(filas):\n",
    "        for j in range(columnas):\n",
    "            elemento = int(input(f\"Introduce un valor para matriz[{i},{j}]: \"))\n",
    "            matriz[i,j] = elemento    \n",
    "    return matriz    \n",
    "\n",
    "def crear_listas_sumas_medias(matriz):\n",
    "    \"\"\"Calcula listas de sumas y medias con operaciones de NumPy\"\"\"\n",
    "    lista_sumas = []\n",
    "    lista_medias = []\n",
    "    for fila in matriz:    \n",
    "        lista_sumas.append(fila.sum())\n",
    "        lista_medias.append(fila.mean())    \n",
    "    return lista_sumas, lista_medias\n",
    "\n",
    "def crear_listas_sumas_medias_v2(matriz):\n",
    "    \"\"\"Calcula listas de sumas y medias sin utilizar NumPy\"\"\"\n",
    "    lista_sumas = []\n",
    "    lista_medias = []\n",
    "    filas, columnas = matriz.shape\n",
    "    for i in range(filas):  \n",
    "        suma_fila = 0\n",
    "        for j in range(columnas):  \n",
    "            suma_fila = suma_fila + matriz[i,j]\n",
    "        lista_sumas.append(suma_fila)\n",
    "        lista_medias.append(suma_fila/columnas)    \n",
    "    \n",
    "    return lista_sumas, lista_medias    \n",
    "\n",
    "def mostrar_lista(lista):\n",
    "    \"\"\"Muestra por pantalla los elementos de una lista separados por espacios\"\"\"\n",
    "    for elemento in lista:\n",
    "        print(elemento, end=\" \")\n",
    "    print() # Para hacer un salto de línea\n",
    "\n",
    "def main():\n",
    "    \"\"\"Función que encapsula el programa principal\"\"\"\n",
    "    filas = pedir_natural(\"Introduce el número de filas de la matriz\")\n",
    "    columnas = pedir_natural(\"Introduce el número de columans de la matriz\")\n",
    "    \n",
    "    matriz = crear_y_rellenar_matriz(filas, columnas)\n",
    "    sumas, medias = crear_listas_sumas_medias(matriz)\n",
    "    sumas2, medias2 = crear_listas_sumas_medias_v2(matriz)\n",
    "\n",
    "    print(\"Cálculo CON NumPy \")\n",
    "    print(\"----------------- \")\n",
    "    print(\"Lista de sumas: \")\n",
    "    mostrar_lista(sumas)\n",
    "    print(\"Lista de medias: \")\n",
    "    mostrar_lista(medias)\n",
    "    print()\n",
    "    print(\"Cálculo SIN NumPy \")\n",
    "    print(\"----------------- \")\n",
    "    print(\"Lista de sumas: \")\n",
    "    mostrar_lista(sumas2)\n",
    "    print(\"Lista de medias: \")\n",
    "    mostrar_lista(medias2)\n",
    "\n",
    "\n",
    "if __name__ == \"__main__\":\n",
    "    main()"
   ]
  },
  {
   "cell_type": "markdown",
   "metadata": {},
   "source": [
    "<br/>\n",
    "<hr style=\"border: 0.5px solid #d60e8c;\">"
   ]
  },
  {
   "cell_type": "markdown",
   "metadata": {},
   "source": [
    "<div style=\"float:left;\">\n",
    "INFORMÁTICA\n",
    "</div>\n",
    "<div style=\"text-align:right;\">\n",
    "Grados en Ing. Mecánica e Ing. en Tecnologías Industriales\n",
    "</div>"
   ]
  }
 ],
 "metadata": {
  "interpreter": {
   "hash": "aee8b7b246df8f9039afb4144a1f6fd8d2ca17a180786b69acc140d282b71a49"
  },
  "kernelspec": {
   "display_name": "Python 3.9.7 64-bit",
   "name": "python3"
  },
  "language_info": {
   "codemirror_mode": {
    "name": "ipython",
    "version": 3
   },
   "file_extension": ".py",
   "mimetype": "text/x-python",
   "name": "python",
   "nbconvert_exporter": "python",
   "pygments_lexer": "ipython3",
   "version": "3.9.7"
  }
 },
 "nbformat": 4,
 "nbformat_minor": 4
}
