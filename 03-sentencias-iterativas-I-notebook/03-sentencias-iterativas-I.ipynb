{
 "cells": [
  {
   "cell_type": "markdown",
   "metadata": {},
   "source": [
    "<div style=\"margin-bottom: 120px;\">\n",
    "    <div style=\"float:left;\">\n",
    "        <br/>\n",
    "        <img src=\"notebooks-img/udc.png\" width=\"300\"/>\n",
    "    </div>\n",
    "</div>\n",
    "\n",
    "\n",
    "<h1 style=\"color: #d60e8c; text-align:center;\">Sentencias iterativas I</h1> \n"
   ]
  },
  {
   "cell_type": "markdown",
   "metadata": {},
   "source": [
    "<h2>Contenidos</h2>\n",
    "<div class=\"alert alert-block alert-info\" \n",
    "     style=\"margin-top: 0px; padding-top:0px; border: 1px solid #d60e8c; border-radius: 20px; background:transparent;\">\n",
    "    <ul>\n",
    "        <li><a href=\"#while\">Bucles while</a></li>\n",
    "        <li><a href=\"#for\">Bucles for</a></li>        \n",
    "    </ul>\n",
    "</div>"
   ]
  },
  {
   "cell_type": "markdown",
   "metadata": {},
   "source": [
    "<a name=\"while\"></a>\n",
    "\n",
    "<h2 style=\"color: #d60e8c;\">Bucles while</h2>\n",
    "<hr style=\"border: 0.5px solid #d60e8c;\">\n",
    "\n",
    "<div style=\"float:left;width:50%;text-align:center;\">\n",
    "        <img src=\"notebooks-img/bucle-while.png\" style=\"width:90%;max-width:800px;\">\n",
    "</div>"
   ]
  },
  {
   "cell_type": "markdown",
   "metadata": {},
   "source": [
    "<h3 style=\"color: #d60e8c;\">Ejemplo 1</h3>\n",
    "\n",
    "Imprime por pantalla los números del 1 al 10"
   ]
  },
  {
   "cell_type": "code",
   "execution_count": null,
   "metadata": {},
   "outputs": [],
   "source": [
    "valor = 1\n",
    "while valor <= 10: \n",
    "    print(valor)\n",
    "    valor = valor + 1"
   ]
  },
  {
   "cell_type": "markdown",
   "metadata": {},
   "source": [
    "<h3 style=\"color: #d60e8c;\">Ejemplo 2</h3>\n",
    "Imprime la tabla de multiplicar de un número que se pide al usuario."
   ]
  },
  {
   "cell_type": "code",
   "execution_count": null,
   "metadata": {},
   "outputs": [],
   "source": [
    "n = int(input(\"Introduce el número: \"))\n",
    "while n<1 or n>10:\n",
    "    n = int(input(\"Error en el rango. Introduce el número: \"))\n",
    "\n",
    "indice=1\n",
    "while indice<=10:\n",
    "    mult=indice*n\n",
    "    print(f\"{n}x{indice} = {mult}\")\n",
    "    indice=indice+1"
   ]
  },
  {
   "cell_type": "markdown",
   "metadata": {},
   "source": [
    "<a name=\"while\"></a>\n",
    "\n",
    "<h2 style=\"color: #d60e8c;\">Bucles for</h2>\n",
    "<hr style=\"border: 0.5px solid #d60e8c;\">\n",
    "\n",
    "<div style=\"float:left;width:50%;text-align:center;\">\n",
    "        <img src=\"notebooks-img/bucle-for.png\" style=\"width:90%;max-width:700px;\">\n",
    "</div>"
   ]
  },
  {
   "cell_type": "markdown",
   "metadata": {},
   "source": [
    "<h3 style=\"color: #d60e8c;\">Ejemplo 1</h3>\n",
    "\n",
    "Imprime las letras de la palabra."
   ]
  },
  {
   "cell_type": "code",
   "execution_count": null,
   "metadata": {},
   "outputs": [],
   "source": [
    "for caracter in \"Hello World\":\n",
    "    print(caracter)"
   ]
  },
  {
   "cell_type": "markdown",
   "metadata": {},
   "source": [
    "<h3 style=\"color: #d60e8c;\">Función range()</h3>\n",
    "<hr style=\"border: 0.5px dashed #d60e8c; background:transparent;\">\n",
    "La función range(), toma un entero como parámetro y, al ser iterada, devuelve una secuencia de números del cero a uno antes del número que recibió.\n"
   ]
  },
  {
   "cell_type": "markdown",
   "metadata": {},
   "source": [
    "<h3 style=\"color: #d60e8c;\">Ejemplo 1</h3>\n",
    "\n",
    "Itera del 0 al 4 de uno en uno"
   ]
  },
  {
   "cell_type": "code",
   "execution_count": null,
   "metadata": {},
   "outputs": [],
   "source": [
    "for x in range(5): \n",
    "    print (x)"
   ]
  },
  {
   "cell_type": "markdown",
   "metadata": {},
   "source": [
    "<h3 style=\"color: #d60e8c;\">Ejemplo 2</h3>\n",
    "\n",
    "Itera del 2 al 4 de uno en uno"
   ]
  },
  {
   "cell_type": "code",
   "execution_count": null,
   "metadata": {},
   "outputs": [],
   "source": [
    "for x in range(2,5): \n",
    "    print (x)"
   ]
  },
  {
   "cell_type": "markdown",
   "metadata": {},
   "source": [
    "<h3 style=\"color: #d60e8c;\">Ejemplo 3</h3>\n",
    "\n",
    "Itera del 3 al 9 de dos en dos"
   ]
  },
  {
   "cell_type": "code",
   "execution_count": null,
   "metadata": {},
   "outputs": [],
   "source": [
    "for x in range(3,10,2): \n",
    "    print (x)"
   ]
  },
  {
   "cell_type": "markdown",
   "metadata": {},
   "source": [
    "<h3 style=\"color: #d60e8c;\">Ejemplo 4</h3>\n",
    "\n",
    "También se puede contar hacia atrás con pasos negativos. El siguiente código, itera del 5 al 1, de uno en uno. "
   ]
  },
  {
   "cell_type": "code",
   "execution_count": null,
   "metadata": {},
   "outputs": [],
   "source": [
    "for x in range(5,0,-1): \n",
    "    print (x)"
   ]
  },
  {
   "cell_type": "markdown",
   "metadata": {},
   "source": [
    "<h3 style=\"color: #d60e8c;\">Ejemplo con for y range</h3>\n",
    "<hr style=\"border: 0.5px dashed #d60e8c; background:transparent;\">\n",
    "\n",
    "El siguiente ejemplo imprime la tabla de multiplicar de un número pedido al usuario utilizando un bucle for:"
   ]
  },
  {
   "cell_type": "code",
   "execution_count": null,
   "metadata": {},
   "outputs": [],
   "source": [
    "n = int(input(\"Introduce el número: \"))\n",
    "while n<0 or n>10:\n",
    "    n = int(input(\"Error en el rango. Introduce el número: \"))\n",
    "\n",
    "for indice in range(1,11):\n",
    "     mult=indice*n\n",
    "     print(f\"{n}x{indice} = {mult}\")\n",
    "    "
   ]
  },
  {
   "cell_type": "markdown",
   "metadata": {},
   "source": [
    "<br/>\n",
    "<hr style=\"border: 0.5px solid #d60e8c;\">"
   ]
  },
  {
   "cell_type": "markdown",
   "metadata": {},
   "source": [
    "<div style=\"float:left;\">\n",
    "INFORMÁTICA\n",
    "</div>\n",
    "<div style=\"text-align:right;\">\n",
    "Grados en Ing. Mecánica e Ing. en Tecnologías Industriales\n",
    "</div>"
   ]
  }
 ],
 "metadata": {
  "interpreter": {
   "hash": "aee8b7b246df8f9039afb4144a1f6fd8d2ca17a180786b69acc140d282b71a49"
  },
  "kernelspec": {
   "display_name": "Python 3.9.7 64-bit",
   "name": "python3"
  },
  "language_info": {
   "codemirror_mode": {
    "name": "ipython",
    "version": 3
   },
   "file_extension": ".py",
   "mimetype": "text/x-python",
   "name": "python",
   "nbconvert_exporter": "python",
   "pygments_lexer": "ipython3",
   "version": "3.9.7"
  }
 },
 "nbformat": 4,
 "nbformat_minor": 4
}
