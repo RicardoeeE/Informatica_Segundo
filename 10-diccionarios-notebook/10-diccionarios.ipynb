{
 "cells": [
  {
   "cell_type": "markdown",
   "metadata": {},
   "source": [
    "<div style=\"margin-bottom: 120px;\">\n",
    "    <div style=\"float:left;\">\n",
    "        <br/>\n",
    "        <img src=\"notebooks-img/udc.png\" width=\"300\"/>\n",
    "    </div>\n",
    "</div>\n",
    "\n",
    "\n",
    "<h1 style=\"color: #d60e8c; text-align:center;\">Diccionarios</h1> \n"
   ]
  },
  {
   "cell_type": "markdown",
   "metadata": {},
   "source": [
    "<h2>Contenidos</h2>\n",
    "<div class=\"alert alert-block alert-info\" \n",
    "     style=\"margin-top: 0px; padding-top:0px; border: 1px solid #d60e8c; border-radius: 20px; background:transparent;\">\n",
    "    <ul>\n",
    "        <li><a href=\"#diccionarios\">Diccionarios: recordando conceptos</a></li>\n",
    "        <li><a href=\"#ejemplo\">Ejemplo</a></li>  \n",
    "    </ul>\n",
    "</div>"
   ]
  },
  {
   "cell_type": "markdown",
   "metadata": {},
   "source": [
    "<a name=\"diccionarios\"></a>\n",
    "\n",
    "<h2 style=\"color: #d60e8c;\">Diccionarios:  recordando conceptos</h2>\n",
    "<hr style=\"border: 0.5px solid #d60e8c;\">\n",
    "\n",
    "- Los diccionarios permiten almacenar un conjunto de datos en forma de pareja clave:valor.\n",
    "- Las claves pueden ser cualquier tipo de dato inmutable. \n",
    "- Los valores pueden ser de cualquier tipo. \n",
    "- Los datos de un diccionario no tienen orden (aunque existe una clase OrderedDict para implementar diccionarios donde el orden sí importe).\n",
    "- **Las claves son únicas (no pueden repetirse)**. Si se asigna un nuevo valor a una clave ya existente se reemplaza el valor anterior.\n",
    "- Sintaxis:\n",
    "\n",
    "<center>\n",
    "<img src=\"notebooks-img/diccionario.png\"/>\n",
    "</center>"
   ]
  },
  {
   "cell_type": "markdown",
   "metadata": {},
   "source": [
    "<a name=\"ejemplos\"></a>\n",
    "<h3 style=\"color: #d60e8c;\">Ejemplos</h3>\n",
    "<hr style=\"border: 0.5px solid #d60e8c;\">"
   ]
  },
  {
   "cell_type": "code",
   "execution_count": null,
   "metadata": {},
   "outputs": [],
   "source": [
    "coordenadas_punto = {\"x\": 50, \"y\": 100, \"z\": 250}"
   ]
  },
  {
   "cell_type": "code",
   "execution_count": null,
   "metadata": {},
   "outputs": [],
   "source": [
    "diccionario_vacio = {}"
   ]
  },
  {
   "cell_type": "code",
   "execution_count": null,
   "metadata": {},
   "outputs": [],
   "source": [
    "modelo_coche = {\n",
    "        \"marca\": \"Mazda\",\n",
    "        \"modelo\": \"MX-5\",\n",
    "        \"cc\": 2000,\n",
    "        \"cilindros\": 4,\n",
    "        \"potencia\": 190,\n",
    "        \"puertas\": 2\n",
    "    }"
   ]
  },
  {
   "cell_type": "code",
   "execution_count": null,
   "metadata": {},
   "outputs": [],
   "source": [
    "jugadores = {\n",
    "        5 : \"Rudy Fernández\",\n",
    "        8 : \"Pau Ribas\", \n",
    "        9 : \"Ricky Rubio\", \n",
    "        10 : \"Víctor Claver\",\n",
    "        13 : \"Marc Gasol\",\n",
    "        14 : \"Willy Hernangómez\",\n",
    "        23: \"Sergio Llull\",\n",
    "   }"
   ]
  },
  {
   "cell_type": "code",
   "execution_count": null,
   "metadata": {},
   "outputs": [],
   "source": [
    "asignaturas_cursos = {\n",
    "        1: [\"Programación I\", \"Cálculo\", \"Estadística\", \"Programación II, Física\"],\n",
    "        2: [\"Sistemas Operativos\", \"Diseño de Software\", \"Sistemas Inteligentes\", \"Redes\"],\n",
    "        3: [\"Inteligencia Artificial\", \"Redes de Neuronas Artificiales\", \"Marcos de Desarrollo\", \"Análisis Software\"]\n",
    "    }"
   ]
  },
  {
   "cell_type": "markdown",
   "metadata": {},
   "source": [
    "<h4 style=\"color: #d60e8c;\">Acceder:</h4>\n",
    "Dos formas:\n",
    "\n",
    "- Con el método \"get\":"
   ]
  },
  {
   "cell_type": "code",
   "execution_count": null,
   "metadata": {},
   "outputs": [],
   "source": [
    "print(modelo_coche.get(\"modelo\"))"
   ]
  },
  {
   "cell_type": "code",
   "execution_count": null,
   "metadata": {},
   "outputs": [],
   "source": [
    "print(jugadores.get(5))"
   ]
  },
  {
   "cell_type": "code",
   "execution_count": null,
   "metadata": {},
   "outputs": [],
   "source": [
    "print(asignaturas_cursos.get(1))"
   ]
  },
  {
   "cell_type": "code",
   "execution_count": null,
   "metadata": {},
   "outputs": [],
   "source": [
    "print(asignaturas_cursos.get(1)[0])"
   ]
  },
  {
   "cell_type": "markdown",
   "metadata": {},
   "source": [
    "Si accedemos a una clave que no existe, devuelve \"None\":"
   ]
  },
  {
   "cell_type": "code",
   "execution_count": null,
   "metadata": {},
   "outputs": [],
   "source": [
    "print(asignaturas_cursos.get(4))"
   ]
  },
  {
   "cell_type": "markdown",
   "metadata": {},
   "source": [
    "- Utilizando [ ]:"
   ]
  },
  {
   "cell_type": "code",
   "execution_count": null,
   "metadata": {},
   "outputs": [],
   "source": [
    "print(modelo_coche[\"modelo\"])"
   ]
  },
  {
   "cell_type": "code",
   "execution_count": null,
   "metadata": {},
   "outputs": [],
   "source": [
    "print(jugadores[5])"
   ]
  },
  {
   "cell_type": "code",
   "execution_count": null,
   "metadata": {},
   "outputs": [],
   "source": [
    "print(asignaturas_cursos[1])"
   ]
  },
  {
   "cell_type": "code",
   "execution_count": null,
   "metadata": {},
   "outputs": [],
   "source": [
    "print(asignaturas_cursos[1][0])"
   ]
  },
  {
   "cell_type": "markdown",
   "metadata": {},
   "source": [
    "Si accedemos a una clave que no existe, da un error:"
   ]
  },
  {
   "cell_type": "code",
   "execution_count": null,
   "metadata": {},
   "outputs": [],
   "source": [
    "print(asignaturas_cursos[4])"
   ]
  },
  {
   "cell_type": "markdown",
   "metadata": {},
   "source": [
    "<h4 style=\"color: #d60e8c;\">Modificar (si existe la clave):</h4>"
   ]
  },
  {
   "cell_type": "code",
   "execution_count": null,
   "metadata": {},
   "outputs": [],
   "source": [
    "modelo_coche[\"cc\"] = 2500"
   ]
  },
  {
   "cell_type": "code",
   "execution_count": null,
   "metadata": {},
   "outputs": [],
   "source": [
    "print(modelo_coche)"
   ]
  },
  {
   "cell_type": "markdown",
   "metadata": {},
   "source": [
    "<h4 style=\"color: #d60e8c;\">Añadir (si no existe la clave):</h4>"
   ]
  },
  {
   "cell_type": "code",
   "execution_count": null,
   "metadata": {},
   "outputs": [],
   "source": [
    "modelo_coche[\"color\"] = \"negro\""
   ]
  },
  {
   "cell_type": "code",
   "execution_count": null,
   "metadata": {},
   "outputs": [],
   "source": [
    "print(modelo_coche)"
   ]
  },
  {
   "cell_type": "markdown",
   "metadata": {},
   "source": [
    "<h4 style=\"color: #d60e8c;\">Comprobar si existe una clave:</h4>"
   ]
  },
  {
   "cell_type": "code",
   "execution_count": null,
   "metadata": {},
   "outputs": [],
   "source": [
    "if not 30 in jugadores:\n",
    "    print(\"No existe jugador con ese dorsal\")"
   ]
  },
  {
   "cell_type": "markdown",
   "metadata": {},
   "source": [
    "<h4 style=\"color: #d60e8c;\">Eliminar un elemento por su clave:</h4>"
   ]
  },
  {
   "cell_type": "code",
   "execution_count": null,
   "metadata": {},
   "outputs": [],
   "source": [
    "del jugadores[10]"
   ]
  },
  {
   "cell_type": "markdown",
   "metadata": {},
   "source": [
    "<a name=\"recorrer\"></a>\n",
    "<h2 style=\"color: #d60e8c;\">Recorrer un diccionario</h2>\n",
    "<hr style=\"border: 0.5px solid #d60e8c;\">\n"
   ]
  },
  {
   "cell_type": "markdown",
   "metadata": {},
   "source": [
    "<h4 style=\"color: #d60e8c;\">Partiendo de este diccionario:</h4>"
   ]
  },
  {
   "cell_type": "code",
   "execution_count": null,
   "metadata": {
    "tags": []
   },
   "outputs": [],
   "source": [
    "coordenadas_punto = {\"x\": 50, \"y\": 100, \"z\": 250}\n"
   ]
  },
  {
   "cell_type": "markdown",
   "metadata": {},
   "source": [
    "<h4 style=\"color: #d60e8c;\">Recorremos las claves y accedemos a sus valores:</h4>"
   ]
  },
  {
   "cell_type": "code",
   "execution_count": null,
   "metadata": {},
   "outputs": [],
   "source": [
    "for clave in coordenadas_punto:\n",
    "    print(clave, coordenadas_punto[clave])"
   ]
  },
  {
   "cell_type": "markdown",
   "metadata": {},
   "source": [
    "<h4 style=\"color: #d60e8c;\">Recorremos los valores:</h4>"
   ]
  },
  {
   "cell_type": "code",
   "execution_count": null,
   "metadata": {},
   "outputs": [],
   "source": [
    "for valor in coordenadas_punto.values():\n",
    "    print(valor)\n"
   ]
  },
  {
   "cell_type": "markdown",
   "metadata": {},
   "source": [
    "<h4 style=\"color: #d60e8c;\">Recorremos claves y valores:</h4>"
   ]
  },
  {
   "cell_type": "code",
   "execution_count": null,
   "metadata": {},
   "outputs": [],
   "source": [
    "for clave, valor in coordenadas_punto.items():\n",
    "    print(clave, valor)\n"
   ]
  },
  {
   "cell_type": "markdown",
   "metadata": {},
   "source": [
    "<a name=\"ejemplo\"></a>\n",
    "\n",
    "<h2 style=\"color: #d60e8c;\">Ejemplo</h2>\n",
    "<hr style=\"border: 0.5px solid #d60e8c;\">\n",
    "\n",
    "El siguiente programa, añade artículos a la cesta de la compra y, a continuación, muestra el contenido de la cesta y el precio total. La cesta se implementa con un diccionario {artículo: precio}.\n"
   ]
  },
  {
   "cell_type": "code",
   "execution_count": null,
   "metadata": {},
   "outputs": [],
   "source": [
    "def crear_cesta_compra():\n",
    "    basket = {}\n",
    "    more = 'si'\n",
    "\n",
    "    while more == 'si':\n",
    "        item = input('Introduce un artículo: ')\n",
    "        if not item in basket:\n",
    "            price = float(input('Introduce el precio de ' + item + ': '))\n",
    "            basket[item] = price\n",
    "        else: \n",
    "            print('El artículo ya está en la cesta.')\n",
    "\n",
    "        more = input('¿Quieres añadir artículos a la lista (si/no)? ')\n",
    "    return basket\n",
    "    \n",
    "    \n",
    "def mostrar_cesta_compra(basket):\n",
    "    cost = 0\n",
    "    print()\n",
    "    print('Lista de la compra')\n",
    "    print('-----------------------')\n",
    "\n",
    "    for item, price in basket.items():\n",
    "        print(f\"{item:14}  {price:6.2f}\")\n",
    "        cost += price\n",
    "    print('-----------------------')\n",
    "    print(f'Coste total: {cost:.2f}')\n",
    "    print()\n",
    "    \n",
    "    \n",
    "def main():\n",
    "    cesta = crear_cesta_compra()\n",
    "    mostrar_cesta_compra(cesta)\n",
    "    \n",
    "    \n",
    "if __name__ == \"__main__\":\n",
    "    main()"
   ]
  },
  {
   "cell_type": "markdown",
   "metadata": {},
   "source": [
    "<br/>\n",
    "<hr style=\"border: 0.5px solid #d60e8c;\">"
   ]
  },
  {
   "cell_type": "markdown",
   "metadata": {},
   "source": [
    "<div style=\"float:left;\">\n",
    "INFORMÁTICA\n",
    "</div>\n",
    "<div style=\"text-align:right;\">\n",
    "Grados en Ing. Mecánica e Ing. en Tecnologías Industriales\n",
    "</div>"
   ]
  }
 ],
 "metadata": {
  "interpreter": {
   "hash": "aee8b7b246df8f9039afb4144a1f6fd8d2ca17a180786b69acc140d282b71a49"
  },
  "kernelspec": {
   "display_name": "Python 3",
   "language": "python",
   "name": "python3"
  },
  "language_info": {
   "codemirror_mode": {
    "name": "ipython",
    "version": 3
   },
   "file_extension": ".py",
   "mimetype": "text/x-python",
   "name": "python",
   "nbconvert_exporter": "python",
   "pygments_lexer": "ipython3",
   "version": "3.8.6"
  }
 },
 "nbformat": 4,
 "nbformat_minor": 4
}
