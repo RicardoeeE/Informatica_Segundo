{
 "cells": [
  {
   "cell_type": "markdown",
   "metadata": {},
   "source": [
    "<div style=\"margin-bottom: 120px;\">\n",
    "    <div style=\"float:left;\">\n",
    "        <br/>\n",
    "        <img src=\"notebooks-img/udc.png\" width=\"300\"/>\n",
    "    </div>\n",
    "</div>\n",
    "\n",
    "\n",
    "<h1 style=\"color: #d60e8c; text-align:center;\">Sentencias iterativas II</h1> \n"
   ]
  },
  {
   "cell_type": "markdown",
   "metadata": {},
   "source": [
    "<h2>Contenidos</h2>\n",
    "<div class=\"alert alert-block alert-info\" \n",
    "     style=\"margin-top: 0px; padding-top:0px; border: 1px solid #d60e8c; border-radius: 20px; background:transparent;\">\n",
    "    <ul>\n",
    "        <li><a href=\"#while\">Bucles while anidados</a></li>\n",
    "        <li><a href=\"#for\">Bucles for anidados</a></li>        \n",
    "    </ul>\n",
    "</div>"
   ]
  },
  {
   "cell_type": "markdown",
   "metadata": {},
   "source": [
    "<a name=\"while\"></a>\n",
    "\n",
    "<h2 style=\"color: #d60e8c;\">Bucles while</h2>\n",
    "<hr style=\"border: 0.5px solid #d60e8c;\">\n",
    "\n",
    "<div style=\"float:left;width:50%;text-align:center;\">\n",
    "        <img src=\"notebooks-img/bucle-while-anidado.png\" style=\"width:90%;max-width:800px;\">\n",
    "</div>"
   ]
  },
  {
   "cell_type": "markdown",
   "metadata": {},
   "source": [
    "<h3 style=\"color: #d60e8c;\">Ejemplo de uso de bucle while anidado</h3>\n",
    "Imprime las n primeras tablas de multiplicar"
   ]
  },
  {
   "cell_type": "code",
   "execution_count": null,
   "metadata": {},
   "outputs": [],
   "source": [
    "tablas = int(input(\"Introduce el numero de tablas (>0): \")) \n",
    "while tablas<=0:\n",
    "    tablas = int(input(\"Error en el rango. Introduce el número (>0): \")) \n",
    "n=1\n",
    "while n<=tablas: \n",
    "    print(\"\\nTabla del\",n) \n",
    "    indice=1\n",
    "    \n",
    "    # Inicio código que calcula una tabla de multiplicar\n",
    "    while indice<=10:\n",
    "        mult=indice*n \n",
    "        print(f\"{n}x{indice} = {mult}\")\n",
    "        indice=indice+1 \n",
    "    # Fin del código que calcula una tabla de multiplicar\n",
    "    \n",
    "    n=n+1"
   ]
  },
  {
   "cell_type": "markdown",
   "metadata": {},
   "source": [
    "<a name=\"for\"></a>\n",
    "\n",
    "<h2 style=\"color: #d60e8c;\">Bucles for anidados</h2>\n",
    "<hr style=\"border: 0.5px solid #d60e8c;\">\n",
    "\n",
    "<div style=\"float:left;width:50%;text-align:center;\">\n",
    "        <img src=\"notebooks-img/bucle-for-anidado.png\" style=\"width:90%;max-width:700px;\">\n",
    "</div>"
   ]
  },
  {
   "cell_type": "markdown",
   "metadata": {},
   "source": [
    "<h3 style=\"color: #d60e8c;\">Ejemplo sencillo</h3>\n",
    "Ejecuta este ejemplo y fíjate como varían los valores de las variables i y j."
   ]
  },
  {
   "cell_type": "code",
   "execution_count": null,
   "metadata": {},
   "outputs": [],
   "source": [
    "for i in range(2):\n",
    "    for j in range(3):\n",
    "        print(f\"i = {i} y j = {j}\")\n",
    "    print() # Imprime un salto de línea"
   ]
  },
  {
   "cell_type": "markdown",
   "metadata": {},
   "source": [
    "<h3 style=\"color: #d60e8c;\">Ejemplo de uso de for anidado</h3>\n",
    "\n",
    "El siguiente ejemplo imprime las n primeras tablas de multiplicar de un número pedido al usuario utilizando bucles for."
   ]
  },
  {
   "cell_type": "code",
   "execution_count": null,
   "metadata": {},
   "outputs": [],
   "source": [
    "tablas = int(input(\"Introduce el numero de tablas (>0): \")) \n",
    "while tablas<=0:\n",
    "    tablas = int(input(\"Error en el rango. Introduce el número (>0): \")) \n",
    "\n",
    "for n in range(1,tablas+1):\n",
    "    print(\"\\nTabla del\",n)\n",
    "    for indice in range(1,11):\n",
    "        mult=indice*n \n",
    "        print(f\"{n}x{indice} = {mult}\")\n",
    "    "
   ]
  },
  {
   "cell_type": "markdown",
   "metadata": {},
   "source": [
    "<br/>\n",
    "<hr style=\"border: 0.5px solid #d60e8c;\">"
   ]
  },
  {
   "cell_type": "markdown",
   "metadata": {},
   "source": [
    "<div style=\"float:left;\">\n",
    "INFORMÁTICA\n",
    "</div>\n",
    "<div style=\"text-align:right;\">\n",
    "Grados en Ing. Mecánica e Ing. en Tecnologías Industriales\n",
    "</div>"
   ]
  }
 ],
 "metadata": {
  "interpreter": {
   "hash": "aee8b7b246df8f9039afb4144a1f6fd8d2ca17a180786b69acc140d282b71a49"
  },
  "kernelspec": {
   "display_name": "Python 3",
   "language": "python",
   "name": "python3"
  },
  "language_info": {
   "codemirror_mode": {
    "name": "ipython",
    "version": 3
   },
   "file_extension": ".py",
   "mimetype": "text/x-python",
   "name": "python",
   "nbconvert_exporter": "python",
   "pygments_lexer": "ipython3",
   "version": "3.8.6"
  }
 },
 "nbformat": 4,
 "nbformat_minor": 4
}
