{
 "cells": [
  {
   "cell_type": "markdown",
   "metadata": {},
   "source": [
    "<div style=\"margin-bottom: 120px;\">\n",
    "    <div style=\"float:left;\">\n",
    "        <br/>\n",
    "        <img src=\"notebooks-img/udc.png\" width=\"300\"/>\n",
    "    </div>\n",
    "</div>\n",
    "\n",
    "\n",
    "<h1 style=\"color: #d60e8c; text-align:center;\">Sentencias condicionales</h1> \n"
   ]
  },
  {
   "cell_type": "markdown",
   "metadata": {},
   "source": [
    "<h2>Contenidos</h2>\n",
    "<div class=\"alert alert-block alert-info\" \n",
    "     style=\"margin-top: 0px; padding-top:0px; border: 1px solid #d60e8c; border-radius: 20px; background:transparent;\">\n",
    "    <ul>\n",
    "        <li><a href=\"#estructura\">Estructura y conceptos a recordar</a></li>\n",
    "        <li><a href=\"#boolean\">Variables booleanas</a></li>\n",
    "        <li><a href=\"#uso_basico\">Uso básico</a></li>\n",
    "    </ul>\n",
    "</div>"
   ]
  },
  {
   "cell_type": "markdown",
   "metadata": {},
   "source": [
    "<a name=\"estructura\"></a>\n",
    "\n",
    "<h2 style=\"color: #d60e8c;\">Estructura y conceptos a recordar</h2>\n",
    "<hr style=\"border: 0.5px solid #d60e8c;\">\n",
    "\n",
    "<div style=\"float:left;width:50%;text-align:center;\">\n",
    "    <img src=\"notebooks-img/estructura-if-else.png\" style=\"width:90%;max-width:800px;\">\n",
    "</div>\n",
    "\n",
    "<div style=\"float:left;width:50%;text-align:center;\">\n",
    "    <img src=\"notebooks-img/estructura-elif.png\" style=\"width:90%;max-width:800px;\">\n",
    "</div>\n"
   ]
  },
  {
   "cell_type": "markdown",
   "metadata": {},
   "source": [
    "<h3 style=\"color: #d60e8c;\">Recuerda</h3>\n",
    "<hr style=\"border: 0.5px dashed #d60e8c; background:transparent;\">\n",
    "\n",
    "- Indentar el código fuente correctamente.\n",
    "- Controlar siempre todas las posibles situaciones de error debidas a entradas del usuario, operaciones aritméticas, etc.\n",
    "- Operadores de comparación: ==, !=, <, <=, >, >=\n",
    "- Operadores booleanos: and, or, not\n",
    "\n",
    "Esta tabla muestra el resultado de aplicar los operadores booleanos **and, or y not** a dos variables:<br>\n",
    "\n",
    "<img src=\"notebooks-img/operadores-logicos.png\" style=\"max-width:300px;\">\n",
    "<br>"
   ]
  },
  {
   "cell_type": "markdown",
   "metadata": {},
   "source": [
    "<a name=\"#boolean\"></a>\n",
    "\n",
    "<h2 style=\"color: #d60e8c;\">Variables booleanas</h2>\n",
    "<hr style=\"border: 0.5px solid #d60e8c;\">"
   ]
  },
  {
   "cell_type": "markdown",
   "metadata": {},
   "source": [
    "<h3 style=\"color: #d60e8c;\">Ejemplo 1</h3>"
   ]
  },
  {
   "cell_type": "code",
   "execution_count": 2,
   "metadata": {},
   "outputs": [],
   "source": [
    "mi_var_booleana = True"
   ]
  },
  {
   "cell_type": "code",
   "execution_count": 3,
   "metadata": {},
   "outputs": [
    {
     "name": "stdout",
     "output_type": "stream",
     "text": [
      "True\n"
     ]
    }
   ],
   "source": [
    "print(mi_var_booleana)"
   ]
  },
  {
   "cell_type": "code",
   "execution_count": 4,
   "metadata": {
    "tags": []
   },
   "outputs": [
    {
     "name": "stdout",
     "output_type": "stream",
     "text": [
      "False\n"
     ]
    }
   ],
   "source": [
    "print(not mi_var_booleana)"
   ]
  },
  {
   "cell_type": "code",
   "execution_count": 6,
   "metadata": {},
   "outputs": [
    {
     "name": "stdout",
     "output_type": "stream",
     "text": [
      "Es True\n"
     ]
    }
   ],
   "source": [
    "if mi_var_booleana:\n",
    "    print(\"Es True\")\n",
    "else:\n",
    "    print(\"Es False\")"
   ]
  },
  {
   "cell_type": "markdown",
   "metadata": {},
   "source": [
    "<h3 style=\"color: #d60e8c;\">Ejemplo 2</h3>"
   ]
  },
  {
   "cell_type": "code",
   "execution_count": 7,
   "metadata": {},
   "outputs": [],
   "source": [
    "numero = int(input(\"Introduce un número entero: \"))"
   ]
  },
  {
   "cell_type": "code",
   "execution_count": 10,
   "metadata": {
    "tags": []
   },
   "outputs": [],
   "source": [
    "es_mayor_que_cinco = numero > 5"
   ]
  },
  {
   "cell_type": "code",
   "execution_count": 9,
   "metadata": {},
   "outputs": [
    {
     "name": "stdout",
     "output_type": "stream",
     "text": [
      "True\n"
     ]
    }
   ],
   "source": [
    "print(es_mayor_que_cinco)"
   ]
  },
  {
   "cell_type": "markdown",
   "metadata": {},
   "source": [
    "En los cuadernos de jupyter podemos poner simplemente el nombre de la variable para mostrar su valor. Esto es práctico para comprobar de forma rápida el valor de una variable o expresión. Pero **cuidado, esto sólo funciona en un cuadernos de Jupyter, no en en un program .py que hagamos con Visual Studio Code**.\n",
    "\n",
    "Por ejemplo, para ver el valor de la variable `es_mayor_que_cinco`:"
   ]
  },
  {
   "cell_type": "code",
   "execution_count": 11,
   "metadata": {},
   "outputs": [
    {
     "data": {
      "text/plain": [
       "True"
      ]
     },
     "execution_count": 11,
     "metadata": {},
     "output_type": "execute_result"
    }
   ],
   "source": [
    "es_mayor_que_cinco"
   ]
  },
  {
   "cell_type": "markdown",
   "metadata": {},
   "source": [
    "Para ver el valor de la variable `numero`:"
   ]
  },
  {
   "cell_type": "code",
   "execution_count": 12,
   "metadata": {},
   "outputs": [
    {
     "data": {
      "text/plain": [
       "8"
      ]
     },
     "execution_count": 12,
     "metadata": {},
     "output_type": "execute_result"
    }
   ],
   "source": [
    "numero"
   ]
  },
  {
   "cell_type": "markdown",
   "metadata": {},
   "source": [
    "O incluso, podemos evaluar una expresión:"
   ]
  },
  {
   "cell_type": "code",
   "execution_count": 13,
   "metadata": {},
   "outputs": [
    {
     "data": {
      "text/plain": [
       "10"
      ]
     },
     "execution_count": 13,
     "metadata": {},
     "output_type": "execute_result"
    }
   ],
   "source": [
    "numero + 2"
   ]
  },
  {
   "cell_type": "markdown",
   "metadata": {},
   "source": [
    "<a name=\"#uso_basico\"></a>\n",
    "\n",
    "<h2 style=\"color: #d60e8c;\">Uso básico del condicional if</h2>\n",
    "<hr style=\"border: 0.5px solid #d60e8c;\">"
   ]
  },
  {
   "cell_type": "markdown",
   "metadata": {},
   "source": [
    "El siguiente programa pide al usuario por teclado su edad y muestra un mensaje indicando si es mayor de edad o no:"
   ]
  },
  {
   "cell_type": "code",
   "execution_count": null,
   "metadata": {},
   "outputs": [
    {
     "name": "stdout",
     "output_type": "stream",
     "text": [
      "Es usted mayor de edad\n",
      "¡Fin del programa!\n"
     ]
    }
   ],
   "source": [
    "edad = int(input(\"¿Qué edad tiene? \"))\n",
    "\n",
    "if edad < 18:\n",
    "    print(\"Es usted menor de edad\") #se ejecuta si la condición es verdadera\n",
    "else:\n",
    "    print(\"Es usted mayor de edad\") #se ejecuta si la condición es falsa\n",
    "    \n",
    "print(\"¡Fin del programa!\") #Esta instrucción se ejecuta siempre"
   ]
  },
  {
   "cell_type": "markdown",
   "metadata": {},
   "source": [
    "¿Qué ocurre si ponemos una edad negativa o con un valor demasiado grande? Prúebalo y verás que tu programa no funciona correctamente. \n",
    "\n",
    "Debemos usar condicionales para realizar un **control de errores**. En el siguiente ejemplo, además, se usa una expresión lógica con un operador booleano. ¿Por qué usamos **or** y no **and**?"
   ]
  },
  {
   "cell_type": "code",
   "execution_count": null,
   "metadata": {},
   "outputs": [
    {
     "name": "stdout",
     "output_type": "stream",
     "text": [
      "No es una edad válida\n",
      "¡Fin del programa!\n"
     ]
    }
   ],
   "source": [
    "edad = int(input(\"¿Qué edad tiene? \"))\n",
    "\n",
    "if edad < 0 or edad > 120:\n",
    "    print(\"No es una edad válida\")\n",
    "elif edad < 18:\n",
    "    print(\"Es usted menor de edad\")\n",
    "else:\n",
    "    print(\"Es usted mayor de edad\")\n",
    "    \n",
    "print(\"¡Fin del programa!\")"
   ]
  },
  {
   "cell_type": "markdown",
   "metadata": {},
   "source": [
    "<hr style=\"border: 0.5px solid #d60e8c;\">"
   ]
  },
  {
   "cell_type": "markdown",
   "metadata": {},
   "source": [
    "<div style=\"float:left;\">\n",
    "INFORMÁTICA\n",
    "</div>\n",
    "<div style=\"text-align:right;\">\n",
    "Grados en Ing. Mecánica e Ing. en Tecnologías Industriales\n",
    "</div>"
   ]
  }
 ],
 "metadata": {
  "interpreter": {
   "hash": "dca0ade3e726a953b501b15e8e990130d2b7799f14cfd9f4271676035ebe5511"
  },
  "kernelspec": {
   "display_name": "Python 3",
   "language": "python",
   "name": "python3"
  },
  "language_info": {
   "codemirror_mode": {
    "name": "ipython",
    "version": 3
   },
   "file_extension": ".py",
   "mimetype": "text/x-python",
   "name": "python",
   "nbconvert_exporter": "python",
   "pygments_lexer": "ipython3",
   "version": "3.7.4"
  }
 },
 "nbformat": 4,
 "nbformat_minor": 4
}
