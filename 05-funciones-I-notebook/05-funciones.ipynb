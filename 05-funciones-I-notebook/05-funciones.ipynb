{
 "cells": [
  {
   "cell_type": "markdown",
   "metadata": {},
   "source": [
    "<div style=\"margin-bottom: 120px;\">\n",
    "    <div style=\"float:left;\">\n",
    "        <br/>\n",
    "        <img src=\"notebooks-img/udc.png\" width=\"300\"/>\n",
    "    </div>\n",
    "</div>\n",
    "\n",
    "\n",
    "<h1 style=\"color: #d60e8c; text-align:center;\">Funciones I</h1> \n"
   ]
  },
  {
   "cell_type": "markdown",
   "metadata": {},
   "source": [
    "<h2>Contenidos</h2>\n",
    "<div class=\"alert alert-block alert-info\" \n",
    "     style=\"margin-top: 0px; padding-top:0px; border: 1px solid #d60e8c; border-radius: 20px; background:transparent;\">\n",
    "    <ul>\n",
    "        <li><a href=\"#funciones\">Funciones</a></li>\n",
    "        <li><a href=\"#ejemplo\">Ejemplo de programa con funciones</a></li>        \n",
    "    </ul>\n",
    "</div>"
   ]
  },
  {
   "cell_type": "markdown",
   "metadata": {},
   "source": [
    "<a name=\"funciones\"></a>\n",
    "\n",
    "<h2 style=\"color: #d60e8c;\">Funciones</h2>\n",
    "<hr style=\"border: 0.5px solid #d60e8c;\">\n",
    "\n",
    "\n",
    "<h3 style=\"color: #d60e8c;\"> Ventajas del uso de funciones</h3>\n",
    "\n",
    "- Permiten estructurar el programa en bloques funcionalmente independientes\n",
    "- Beneficios del uso de funciones:\n",
    "    - Aislar mejor los problemas\n",
    "    - Desarrollar programas mucho más fáciles de mantener\n",
    "    - Reutilizar código entre distintos programas"
   ]
  },
  {
   "cell_type": "markdown",
   "metadata": {},
   "source": [
    "<h3 style=\"color: #d60e8c;\">Estructura de una función en Python</h3>    \n",
    "    \n",
    "<div style=\"float:left;width:50%;text-align:center;\">\n",
    "        <img src=\"notebooks-img/funcion_detalle.png\" style=\"width:90%;max-width:900px;\">\n",
    "</div>"
   ]
  },
  {
   "cell_type": "markdown",
   "metadata": {},
   "source": [
    "<h3 style=\"color: #d60e8c;\">Ejemplo de uso de funciones</h3>\n",
    "\n",
    "<h4 style=\"color: #d60e8c;\">Cálculo de una potencia SIN funciones</h4>\n"
   ]
  },
  {
   "cell_type": "code",
   "execution_count": null,
   "metadata": {},
   "outputs": [],
   "source": [
    "base = int(input(\"Introduce la base: \"))\n",
    "exp = int(input(\"Introduce el exponente (>0): \"))\n",
    "\n",
    "while exp<=0:\n",
    "    exp = int(input(\"Error en el rango. Introduce el número (>0): \"))\n",
    "pot = 1\n",
    "n=1\n",
    "\n",
    "while n<=exp:\n",
    "    pot = pot * base\n",
    "    n=n+1\n",
    "\n",
    "print(f\"{base} elevado a {exp} vale {pot}\")\n"
   ]
  },
  {
   "cell_type": "markdown",
   "metadata": {},
   "source": [
    "<h4 style=\"color: #d60e8c;\">Cálculo de una potencia CON funciones</h4>"
   ]
  },
  {
   "cell_type": "code",
   "execution_count": null,
   "metadata": {},
   "outputs": [],
   "source": [
    "#Función que calcula la potencia\n",
    "def calcula_potencia (base,exponente):\n",
    "    potencia=1 \n",
    "    n=1\n",
    "    while n<=exponente:\n",
    "        potencia=potencia*base\n",
    "        n=n+1\n",
    "    return potencia\n",
    "\n",
    "#Programa principal (cálculo de una potencia)\n",
    "base = int(input(\"Introduce la base: \"))\n",
    "exp = int(input(\"Introduce el exponente (>0): \"))\n",
    "while exp<=0:\n",
    "    exp = int(input(\"Error en el rango. Introduce el número (>0): \"))\n",
    "\n",
    "pot = calcula_potencia(base, exp)\n",
    "print(f\"{base} elevado a {exp} vale {pot}\")"
   ]
  },
  {
   "cell_type": "markdown",
   "metadata": {},
   "source": [
    "<h4 style=\"color: #d60e8c;\">Ejercicio de comprensión:</h4>\n",
    "\n",
    "Qué ocurre si en el ejemplo anterior cambiamos el último print <br>\n",
    "  &nbsp;&nbsp;&nbsp;<code>print(f\"{base} elevado a {exp} vale {pot}\")</code> <br>\n",
    "por <br>\n",
    "  &nbsp;&nbsp;&nbsp;<code>print(f\"{base} elevado a {exp} vale {potencia}\")</code>\n",
    "  \n",
    "Si no tienes clara la respuesta, ejecuta las siguientes celdas de código y analiza el resultado:"
   ]
  },
  {
   "cell_type": "code",
   "execution_count": null,
   "metadata": {},
   "outputs": [],
   "source": [
    "print(f\"{base} elevado a {exp} vale {pot}\")"
   ]
  },
  {
   "cell_type": "code",
   "execution_count": null,
   "metadata": {},
   "outputs": [],
   "source": [
    "print(f\"{base} elevado a {exp} vale {potencia}\")"
   ]
  },
  {
   "cell_type": "markdown",
   "metadata": {},
   "source": [
    "¿Porqué no muestran lo mismo? ¿Qué ocurre en el segundo print? "
   ]
  },
  {
   "cell_type": "markdown",
   "metadata": {},
   "source": [
    "<a name=\"ejemplo\"></a>\n",
    "\n",
    "<h2 style=\"color: #d60e8c;\">Ejemplo de programa con funciones</h2>\n",
    "<hr style=\"border: 0.5px solid #d60e8c;\">"
   ]
  },
  {
   "cell_type": "markdown",
   "metadata": {},
   "source": [
    "<h3 style=\"color: #d60e8c;\">Función 1</h3>\n",
    "Función que no recibe argumentos y devuelve dos valores"
   ]
  },
  {
   "cell_type": "code",
   "execution_count": null,
   "metadata": {},
   "outputs": [],
   "source": [
    "#función que pide por teclado base y exponente\n",
    "def entrada_datos():\n",
    "    base = int(input(\"Introduce la base: \"))\n",
    "    exponente = int(input(\"Introduce el exponente (>0): \"))\n",
    "    while exponente<=0:\n",
    "        exponente= int(input(\"Error en el rango. Introduce el número (>0): \"))\n",
    "    return base, exponente"
   ]
  },
  {
   "cell_type": "markdown",
   "metadata": {},
   "source": [
    "<h3 style=\"color: #d60e8c;\">Función 2</h3>\n",
    "Función que recibe 2 argumentos y devuelve un valor"
   ]
  },
  {
   "cell_type": "code",
   "execution_count": null,
   "metadata": {},
   "outputs": [],
   "source": [
    "#función que calcula la potencia \n",
    "def calcula_potencia (base,exp):\n",
    "    potencia=1 \n",
    "    n=1\n",
    "    while n<=exp:\n",
    "         potencia=potencia*base\n",
    "         n=n+1\n",
    "    return potencia"
   ]
  },
  {
   "cell_type": "markdown",
   "metadata": {},
   "source": [
    "<h3 style=\"color: #d60e8c;\">Bloque principal del programa</h3>\n",
    "Programa principal desde el que llamamos a las funciones."
   ]
  },
  {
   "cell_type": "code",
   "execution_count": null,
   "metadata": {},
   "outputs": [],
   "source": [
    "base, exp = entrada_datos()\n",
    "pot = calcula_potencia (base, exp)\n",
    "print(f\"{base} elevado a {exp} vale {pot}\")"
   ]
  },
  {
   "cell_type": "markdown",
   "metadata": {},
   "source": [
    "<h3 style=\"color: #d60e8c;\">Programa completo</h3>"
   ]
  },
  {
   "cell_type": "code",
   "execution_count": null,
   "metadata": {},
   "outputs": [],
   "source": [
    "#función que pide por teclado base y exponente\n",
    "def entrada_datos():\n",
    "    base = int(input(\"Introduce la base: \"))\n",
    "    exponente = int(input(\"Introduce el exponente (>0): \"))\n",
    "    while exponente<=0:\n",
    "        exponente= int(input(\"Error en el rango. Introduce el número (>0): \"))\n",
    "    return base, exponente\n",
    "\n",
    "#función que calcula la potencia \n",
    "def calcula_potencia (base,exp):\n",
    "    potencia=1 \n",
    "    n=1\n",
    "    while n<=exp:\n",
    "         potencia=potencia*base\n",
    "         n=n+1\n",
    "    return potencia\n",
    "    \n",
    "base, exp = entrada_datos()\n",
    "pot = calcula_potencia (base, exp)\n",
    "print(f\"{base} elevado a {exp} vale {pot}\")"
   ]
  },
  {
   "cell_type": "markdown",
   "metadata": {},
   "source": [
    "<br/>\n",
    "<hr style=\"border: 0.5px solid #d60e8c;\">"
   ]
  },
  {
   "cell_type": "markdown",
   "metadata": {},
   "source": [
    "<div style=\"float:left;\">\n",
    "INFORMÁTICA\n",
    "</div>\n",
    "<div style=\"text-align:right;\">\n",
    "Grados en Ing. Mecánica e Ing. en Tecnologías Industriales\n",
    "</div>"
   ]
  }
 ],
 "metadata": {
  "interpreter": {
   "hash": "aee8b7b246df8f9039afb4144a1f6fd8d2ca17a180786b69acc140d282b71a49"
  },
  "kernelspec": {
   "display_name": "Python 3",
   "language": "python",
   "name": "python3"
  },
  "language_info": {
   "codemirror_mode": {
    "name": "ipython",
    "version": 3
   },
   "file_extension": ".py",
   "mimetype": "text/x-python",
   "name": "python",
   "nbconvert_exporter": "python",
   "pygments_lexer": "ipython3",
   "version": "3.8.6"
  }
 },
 "nbformat": 4,
 "nbformat_minor": 4
}
