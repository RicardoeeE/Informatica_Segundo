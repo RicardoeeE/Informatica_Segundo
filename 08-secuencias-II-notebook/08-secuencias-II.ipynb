{
 "cells": [
  {
   "cell_type": "markdown",
   "metadata": {},
   "source": [
    "<div style=\"margin-bottom: 120px;\">\n",
    "    <div style=\"float:left;\">\n",
    "        <br/>\n",
    "        <img src=\"notebooks-img/udc.png\" width=\"300\"/>\n",
    "    </div>\n",
    "</div>\n",
    "\n",
    "\n",
    "<h1 style=\"color: #d60e8c; text-align:center;\">Secuencias II</h1> \n"
   ]
  },
  {
   "cell_type": "markdown",
   "metadata": {},
   "source": [
    "<h2>Contenidos</h2>\n",
    "<div class=\"alert alert-block alert-info\" \n",
    "     style=\"margin-top: 0px; padding-top:0px; border: 1px solid #d60e8c; border-radius: 20px; background:transparent;\">\n",
    "    <ul>\n",
    "        <li><a href=\"#comprensiones\">Resumen: Comprensiones listas</a></li> \n",
    "        <li><a href=\"#generadores\">Resumen: Generadores</a></li> \n",
    "        <li><a href=\"#ejemplos\">Ejemplos (comprensiones de listas y generadores)</a></li>        \n",
    "    </ul>\n",
    "</div>\n"
   ]
  },
  {
   "cell_type": "markdown",
   "metadata": {},
   "source": [
    "<a name=\"comprensiones\"></a>\n",
    "<h2 style=\"color: #d60e8c;\">Resumen: comprensiones de listas</h2>\n",
    "<hr style=\"border: 0.5px solid #d60e8c;\">\n"
   ]
  },
  {
   "cell_type": "markdown",
   "metadata": {},
   "source": [
    "- Las comprensiones de listas son una forma compacta de generar listas a partir de sentencias iterativas.\n",
    "- Consisten en corchetes que contienen una expresión seguida por una sentencia for y, opcionalmente, más cláusulas for o if adicionales. Por ejemplo, si solo hubiese un for y un if:\n",
    "\n",
    "```\n",
    "[expresión for variable in iterador if condición]\n",
    "```\n",
    "\n",
    "- El resultado es una nueva lista formada por los elementos resultado de evaluar la expresión para cada iteración de la sentencia.\n"
   ]
  },
  {
   "cell_type": "markdown",
   "metadata": {},
   "source": [
    "<a name=\"generadores\"></a>\n",
    "<h2 style=\"color: #d60e8c;\">Resumen: generadores</h2>\n",
    "<hr style=\"border: 0.5px solid #d60e8c;\">\n"
   ]
  },
  {
   "cell_type": "markdown",
   "metadata": {},
   "source": [
    "- Las listas por comprensión pueden necesitar mucha memoria.\n",
    "- Los generadores tienen una sintaxis prácticamente igual (simplemente cambian los corchetes por paréntesis). Ejemplo:\n",
    "```\n",
    "(expresión for variable in iterador if condición)\n",
    "```\n",
    "- En vez de crear una lista, crean un iterador que calcula un elemento nuevo cada vez que lo pedimos.\n",
    "- Lo anterior implica que **un generador solo se puede usar una vez**, no podemos utilizarlo para acceder a un mismo elemento dos veces.\n"
   ]
  },
  {
   "cell_type": "markdown",
   "metadata": {},
   "source": [
    "<a name=\"ejemplos\"></a>\n",
    "<h2 style=\"color: #d60e8c;\">Ejemplos (comprensiones de listas y generadores)</h2>\n",
    "<hr style=\"border: 0.5px solid #d60e8c;\">\n"
   ]
  },
  {
   "cell_type": "markdown",
   "metadata": {},
   "source": [
    "<h4 style=\"color: #d60e8c;\">Compresiones de listas:</h4>"
   ]
  },
  {
   "cell_type": "code",
   "execution_count": 4,
   "metadata": {},
   "outputs": [
    {
     "name": "stdout",
     "output_type": "stream",
     "text": [
      "[0, 1, 2, 3, 4, 5, 6, 7, 8, 9]\n"
     ]
    }
   ],
   "source": [
    "n = 10\n",
    "lista = [x for x in range(n)]\n",
    "print(lista)"
   ]
  },
  {
   "cell_type": "code",
   "execution_count": 5,
   "metadata": {},
   "outputs": [
    {
     "name": "stdout",
     "output_type": "stream",
     "text": [
      "[0, 1, 4, 9, 16, 25, 36, 49, 64, 81]\n"
     ]
    }
   ],
   "source": [
    "lista = [x**2 for x in lista]\n",
    "print(lista)"
   ]
  },
  {
   "cell_type": "code",
   "execution_count": 6,
   "metadata": {},
   "outputs": [
    {
     "name": "stdout",
     "output_type": "stream",
     "text": [
      "[36, 49, 64, 81]\n"
     ]
    }
   ],
   "source": [
    "lista = [x for x in lista if x > 25]\n",
    "print(lista)"
   ]
  },
  {
   "cell_type": "code",
   "execution_count": 7,
   "metadata": {},
   "outputs": [
    {
     "name": "stdout",
     "output_type": "stream",
     "text": [
      "[49, 81]\n"
     ]
    }
   ],
   "source": [
    "lista2 = [49, 81, 120, 180]\n",
    "lista3 = [x for x in lista for y in lista2 if x == y]\n",
    "print(lista3)"
   ]
  },
  {
   "cell_type": "markdown",
   "metadata": {},
   "source": [
    "<h4 style=\"color: #d60e8c;\">Generadores:</h4>"
   ]
  },
  {
   "cell_type": "code",
   "execution_count": 10,
   "metadata": {},
   "outputs": [
    {
     "name": "stdout",
     "output_type": "stream",
     "text": [
      "<class 'list'>\n",
      "<class 'generator'>\n"
     ]
    }
   ],
   "source": [
    "print(type(lista))\n",
    "falsa_lista = (x for x in range(n))\n",
    "print(type(falsa_lista))"
   ]
  },
  {
   "cell_type": "code",
   "execution_count": 11,
   "metadata": {},
   "outputs": [
    {
     "name": "stdout",
     "output_type": "stream",
     "text": [
      "0 1 2 3 4 5 6 7 8 9 "
     ]
    }
   ],
   "source": [
    "for i in falsa_lista:\n",
    "    print(i, end=\" \")"
   ]
  },
  {
   "cell_type": "code",
   "execution_count": 12,
   "metadata": {},
   "outputs": [],
   "source": [
    "for i in falsa_lista:\n",
    "    print(i, end=\" \")"
   ]
  },
  {
   "cell_type": "markdown",
   "metadata": {},
   "source": [
    "<br/>\n",
    "<hr style=\"border: 0.5px solid #d60e8c;\">"
   ]
  },
  {
   "cell_type": "markdown",
   "metadata": {},
   "source": [
    "<div style=\"float:left;\">\n",
    "INFORMÁTICA\n",
    "</div>\n",
    "<div style=\"text-align:right;\">\n",
    "Grados en Ing. Mecánica e Ing. en Tecnologías Industriales\n",
    "</div>"
   ]
  }
 ],
 "metadata": {
  "kernelspec": {
   "display_name": "Python 3.10.8 64-bit",
   "language": "python",
   "name": "python3"
  },
  "language_info": {
   "codemirror_mode": {
    "name": "ipython",
    "version": 3
   },
   "file_extension": ".py",
   "mimetype": "text/x-python",
   "name": "python",
   "nbconvert_exporter": "python",
   "pygments_lexer": "ipython3",
   "version": "3.10.8"
  },
  "vscode": {
   "interpreter": {
    "hash": "b0fa6594d8f4cbf19f97940f81e996739fb7646882a419484c72d19e05852a7e"
   }
  }
 },
 "nbformat": 4,
 "nbformat_minor": 4
}
