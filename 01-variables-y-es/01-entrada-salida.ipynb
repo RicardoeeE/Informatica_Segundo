{
 "cells": [
  {
   "cell_type": "markdown",
   "metadata": {},
   "source": [
    "<div style=\"margin-bottom: 120px;\">\n",
    "    <div style=\"float:left;\">\n",
    "        <br/>\n",
    "        <img src=\"notebooks-img/udc.png\" width=\"300\"/>\n",
    "    </div>\n",
    "</div>\n",
    "\n",
    "\n",
    "<h1 style=\"color: #d60e8c; text-align:center;\">Entrada / Salida</h1> \n"
   ]
  },
  {
   "cell_type": "markdown",
   "metadata": {},
   "source": [
    "<h2>Contenidos</h2>\n",
    "<div class=\"alert alert-block alert-info\" \n",
    "     style=\"margin-top: 0px; padding-top:0px; border: 1px solid #d60e8c; border-radius: 20px; background:transparent;\">\n",
    "    <ul>\n",
    "        <li><a href=\"#print\">Escritura en pantalla</a></li>\n",
    "        <li><a href=\"#input\">Lectura de datos por teclado</a></li>\n",
    "        <li><a href=\"#example\">Ejemplo de programa</a></li>\n",
    "    </ul>\n",
    "</div>"
   ]
  },
  {
   "cell_type": "markdown",
   "metadata": {},
   "source": [
    "<a name=\"print\"></a>\n",
    "\n",
    "<h2 style=\"color: #d60e8c;\">Escritura por pantalla</h2>\n",
    "<hr style=\"border: 0.5px solid #d60e8c;\">\n",
    "\n",
    "\n",
    "- Usa `print()` para escribir en pantalla.\n",
    "- `print()` admite múltiples argumentos, por defecto los separa por un espacio en blanco y finaliza con un salto de línea.\n",
    "- Las cadenas de caracteres (texto) pueden escribirse entre comillas dobles o simples.\n",
    "- Una cadena con formato va precedida de **f**.\n",
    "- Las cadenas de caracteres pueden unirse con el operador `+`.\n",
    "- Un número puede convertirse a texto con la función `str()`.\n"
   ]
  },
  {
   "cell_type": "markdown",
   "metadata": {},
   "source": [
    "<h3 style=\"color: #d60e8c;\">Ejemplo 1</h3>\n",
    "\n",
    "Asignamos valores a las variables n1 y n2"
   ]
  },
  {
   "cell_type": "code",
   "execution_count": 5,
   "metadata": {},
   "outputs": [],
   "source": [
    "n1 = 1\n",
    "n2 = 2"
   ]
  },
  {
   "cell_type": "markdown",
   "metadata": {},
   "source": [
    "Mostramos las variables `n1` y `n2` por pantalla de tres formas distinas con la función `print`:"
   ]
  },
  {
   "cell_type": "code",
   "execution_count": 6,
   "metadata": {
    "tags": []
   },
   "outputs": [
    {
     "name": "stdout",
     "output_type": "stream",
     "text": [
      "n1 vale 1 y n2 vale 2\n"
     ]
    }
   ],
   "source": [
    "print(\"n1 vale\", n1, \"y n2 vale\", n2)"
   ]
  },
  {
   "cell_type": "code",
   "execution_count": 7,
   "metadata": {},
   "outputs": [
    {
     "name": "stdout",
     "output_type": "stream",
     "text": [
      "n1 vale 1 y n2 vale 2\n"
     ]
    }
   ],
   "source": [
    "print(f\"n1 vale {n1} y n2 vale {n2}\")"
   ]
  },
  {
   "cell_type": "code",
   "execution_count": 8,
   "metadata": {},
   "outputs": [
    {
     "name": "stdout",
     "output_type": "stream",
     "text": [
      "n1 vale 1 y n2 vale 2\n"
     ]
    }
   ],
   "source": [
    "print(\"n1 vale \" + str(n1) + \" y n2 vale \" + str(n2))"
   ]
  },
  {
   "cell_type": "markdown",
   "metadata": {},
   "source": [
    "<h3 style=\"color: #d60e8c;\">Ejemplo 2</h3>\n",
    "\n",
    "Asignamos valores a las variables n3 y n4"
   ]
  },
  {
   "cell_type": "code",
   "execution_count": 9,
   "metadata": {},
   "outputs": [],
   "source": [
    "n3 = 8.9\n",
    "n4 = 12.316"
   ]
  },
  {
   "cell_type": "markdown",
   "metadata": {},
   "source": [
    "Mostramos las variables `n3` y `n4` por pantalla, indicando el número de decimales a mostrar:"
   ]
  },
  {
   "cell_type": "code",
   "execution_count": 10,
   "metadata": {},
   "outputs": [
    {
     "name": "stdout",
     "output_type": "stream",
     "text": [
      "n3 vale 8.90 y n4 vale 12.32\n"
     ]
    }
   ],
   "source": [
    "print(f\"n3 vale {n3:.2f} y n4 vale {n4:.2f}\")"
   ]
  },
  {
   "cell_type": "markdown",
   "metadata": {},
   "source": [
    "<a name=\"input\"></a>\n",
    "\n",
    "<h2 style=\"color: #d60e8c;\">Lectura de datos por teclado</h2>\n",
    "<hr style=\"border: 0.5px solid #d60e8c;\">\n",
    "\n",
    "- Usa `input()` para leer datos por teclado:\n",
    "    - Devuelve una cadena de caracteres.\n",
    "    - Admite un argumento que es el texto que se desea que salga por pantalla para informar al usuario.\n",
    "- Un cadena de caracteres puede convertirse a entero con la función int(), a número real con float(), etc.\n"
   ]
  },
  {
   "cell_type": "markdown",
   "metadata": {},
   "source": [
    "<h3 style=\"color: #d60e8c;\">Ejemplo 1</h3>\n",
    "\n",
    "Pedimos por teclado un valor, lo convertimos a un entero y se lo asignamos a la variable `n1`:"
   ]
  },
  {
   "cell_type": "code",
   "execution_count": 11,
   "metadata": {},
   "outputs": [],
   "source": [
    "n1 = int(input(\"Dime el valor de n1: \"))"
   ]
  },
  {
   "cell_type": "markdown",
   "metadata": {},
   "source": [
    "Pedimos por teclado un valor, lo convertimos a un entero y se lo asignamos a la variable `n2`:"
   ]
  },
  {
   "cell_type": "code",
   "execution_count": 12,
   "metadata": {},
   "outputs": [],
   "source": [
    "n2 = int(input(\"Dime el valor de n2: \"))"
   ]
  },
  {
   "cell_type": "markdown",
   "metadata": {},
   "source": [
    "Mostramos las variables por pantalla:"
   ]
  },
  {
   "cell_type": "code",
   "execution_count": 13,
   "metadata": {},
   "outputs": [
    {
     "name": "stdout",
     "output_type": "stream",
     "text": [
      "n1 vale 5 y n2 vale 6\n"
     ]
    }
   ],
   "source": [
    "print(\"n1 vale\", n1, \"y n2 vale\", n2)"
   ]
  },
  {
   "cell_type": "markdown",
   "metadata": {},
   "source": [
    "Mostramos la suma de las variables por pantalla:"
   ]
  },
  {
   "cell_type": "code",
   "execution_count": 14,
   "metadata": {},
   "outputs": [
    {
     "name": "stdout",
     "output_type": "stream",
     "text": [
      "n1 + n2 =  11\n"
     ]
    }
   ],
   "source": [
    "print(\"n1 + n2 = \", n1+n2)"
   ]
  },
  {
   "cell_type": "markdown",
   "metadata": {},
   "source": [
    "<h3 style=\"color: #d60e8c;\">Ejemplo 2</h3>\n",
    "\n",
    "Pedimos por teclado un valor y se lo asignamos a la variable `n3`:"
   ]
  },
  {
   "cell_type": "code",
   "execution_count": 15,
   "metadata": {},
   "outputs": [],
   "source": [
    "n3 = input(\"Dime el valor de n3: \")"
   ]
  },
  {
   "cell_type": "markdown",
   "metadata": {},
   "source": [
    "Pedimos por teclado un valor y se lo asignamos a la variable `n4`:"
   ]
  },
  {
   "cell_type": "code",
   "execution_count": 16,
   "metadata": {},
   "outputs": [],
   "source": [
    "n4 = input(\"Dime el valor de n4: \")"
   ]
  },
  {
   "cell_type": "markdown",
   "metadata": {},
   "source": [
    "Mostramos las variables por pantalla:"
   ]
  },
  {
   "cell_type": "code",
   "execution_count": 17,
   "metadata": {},
   "outputs": [
    {
     "name": "stdout",
     "output_type": "stream",
     "text": [
      "n3 vale 7 y n4 vale 8\n"
     ]
    }
   ],
   "source": [
    "print(\"n3 vale\", n3, \"y n4 vale\", n4)"
   ]
  },
  {
   "cell_type": "markdown",
   "metadata": {},
   "source": [
    "Mostramos la suma de las variables por pantalla:"
   ]
  },
  {
   "cell_type": "code",
   "execution_count": 18,
   "metadata": {},
   "outputs": [
    {
     "name": "stdout",
     "output_type": "stream",
     "text": [
      "n3 + n4 =  78\n"
     ]
    }
   ],
   "source": [
    "print(\"n3 + n4 = \", n3+n4)"
   ]
  },
  {
   "cell_type": "markdown",
   "metadata": {},
   "source": [
    "<a name=\"example\"></a>\n",
    "\n",
    "<h2 style=\"color: #d60e8c;\">Ejemplo de programa</h2>"
   ]
  },
  {
   "cell_type": "markdown",
   "metadata": {},
   "source": [
    "<h3 style=\"color: #d60e8c;\">Enunciado:</h3>\n",
    "\n",
    "- Implementar un programa en Python que calcule:\n",
    "  - Área de un círculo para un radio dado `(π*radio2)`\n",
    "  - Longitud de la circunferencia con dicho radio `(2*π*radio)`\n",
    "- El radio será pedido al usuario.\n",
    "- Los resultados deben mostrarse por pantalla con 2 decimales.\n"
   ]
  },
  {
   "cell_type": "markdown",
   "metadata": {},
   "source": [
    "<h3 style=\"color: #d60e8c;\">Solución paso a paso:</h3>\n",
    "\n",
    "1. Importamos librería math para usar la constante pi"
   ]
  },
  {
   "cell_type": "code",
   "execution_count": 19,
   "metadata": {},
   "outputs": [],
   "source": [
    "\"\"\"\n",
    "Programa que calcula el área y longitud de una circunferencia.\n",
    "\"\"\"\n",
    "import math"
   ]
  },
  {
   "cell_type": "markdown",
   "metadata": {},
   "source": [
    "2. Pedimos por teclado el valor del radio, lo convertimos a `float` y lo asignamos a la variable `radio`:"
   ]
  },
  {
   "cell_type": "code",
   "execution_count": 20,
   "metadata": {},
   "outputs": [],
   "source": [
    "radio = float(input(\"Introduce el radio: \"))"
   ]
  },
  {
   "cell_type": "markdown",
   "metadata": {},
   "source": [
    "3. Calculamos el valor del área escribiendo su fórmula como una expresión en Python."
   ]
  },
  {
   "cell_type": "code",
   "execution_count": 21,
   "metadata": {},
   "outputs": [],
   "source": [
    "area = math.pi * radio ** 2"
   ]
  },
  {
   "cell_type": "markdown",
   "metadata": {},
   "source": [
    "4. Calculamos el valor de la longitud escribiendo su fórmula como una expresión en Python."
   ]
  },
  {
   "cell_type": "code",
   "execution_count": 22,
   "metadata": {},
   "outputs": [],
   "source": [
    "longitud = 2 * math.pi * radio"
   ]
  },
  {
   "cell_type": "markdown",
   "metadata": {},
   "source": [
    "5. Mostramos por pantalla (con dos decimales) el área y la longitud."
   ]
  },
  {
   "cell_type": "code",
   "execution_count": 23,
   "metadata": {},
   "outputs": [
    {
     "name": "stdout",
     "output_type": "stream",
     "text": [
      "El area vale 254.47 y la longitud 56.55\n"
     ]
    }
   ],
   "source": [
    "print(f\"El area vale {area:.2f} y la longitud {longitud:.2f}\")"
   ]
  },
  {
   "cell_type": "markdown",
   "metadata": {},
   "source": [
    "<h3 style=\"color: #d60e8c;\">Solución completa:</h3>"
   ]
  },
  {
   "cell_type": "code",
   "execution_count": 24,
   "metadata": {},
   "outputs": [
    {
     "name": "stdout",
     "output_type": "stream",
     "text": [
      "El area vale 254.47 y la longitud 56.55\n"
     ]
    }
   ],
   "source": [
    "\"\"\"\n",
    "Programa que calcula el área y longitud de una circunferencia.\n",
    "\"\"\"\n",
    "import math\n",
    "\n",
    "radio = float(input(\"Introduce el radio: \"))\n",
    "\n",
    "area = math.pi * radio **2\n",
    "longitud = 2 * math.pi * radio\n",
    "\n",
    "print(f\"El area vale {area:.2f} y la longitud {longitud:.2f}\")"
   ]
  },
  {
   "cell_type": "markdown",
   "metadata": {},
   "source": [
    "<br/>\n",
    "<hr style=\"border: 0.5px solid #d60e8c;\">"
   ]
  },
  {
   "cell_type": "markdown",
   "metadata": {},
   "source": [
    "<div style=\"float:left;\">\n",
    "INFORMÁTICA\n",
    "</div>\n",
    "<div style=\"text-align:right;\">\n",
    "Grados en Ing. Mecánica e Ing. en Tecnologías Industriales\n",
    "</div>"
   ]
  }
 ],
 "metadata": {
  "interpreter": {
   "hash": "aee8b7b246df8f9039afb4144a1f6fd8d2ca17a180786b69acc140d282b71a49"
  },
  "kernelspec": {
   "display_name": "Python 3.9.7 64-bit",
   "name": "python3"
  },
  "language_info": {
   "codemirror_mode": {
    "name": "ipython",
    "version": 3
   },
   "file_extension": ".py",
   "mimetype": "text/x-python",
   "name": "python",
   "nbconvert_exporter": "python",
   "pygments_lexer": "ipython3",
   "version": "3.12.3"
  }
 },
 "nbformat": 4,
 "nbformat_minor": 4
}
